{
  "nbformat": 4,
  "nbformat_minor": 0,
  "metadata": {
    "colab": {
      "name": "PreprocesamientoDeDatos",
      "provenance": [],
      "authorship_tag": "ABX9TyNT0I25OK+vG0rKk5Np5I3h",
      "include_colab_link": true
    },
    "kernelspec": {
      "name": "python3",
      "display_name": "Python 3"
    }
  },
  "cells": [
    {
      "cell_type": "markdown",
      "metadata": {
        "id": "view-in-github",
        "colab_type": "text"
      },
      "source": [
        "<a href=\"https://colab.research.google.com/github/waltermayor/rescityUAO/blob/master/PreprocesamientoDeDatos.ipynb\" target=\"_parent\"><img src=\"https://colab.research.google.com/assets/colab-badge.svg\" alt=\"Open In Colab\"/></a>"
      ]
    },
    {
      "cell_type": "code",
      "metadata": {
        "id": "jsm4r9N54Jt6",
        "colab_type": "code",
        "colab": {
          "base_uri": "https://localhost:8080/",
          "height": 141
        },
        "outputId": "eea3e5f3-5c3a-470d-fcc1-a45120f4bdd9"
      },
      "source": [
        "#pip install pandas\n",
        "! pip install sodapy"
      ],
      "execution_count": null,
      "outputs": [
        {
          "output_type": "stream",
          "text": [
            "Requirement already satisfied: sodapy in /usr/local/lib/python3.6/dist-packages (2.1.0)\n",
            "Requirement already satisfied: requests>=2.20.0 in /usr/local/lib/python3.6/dist-packages (from sodapy) (2.23.0)\n",
            "Requirement already satisfied: chardet<4,>=3.0.2 in /usr/local/lib/python3.6/dist-packages (from requests>=2.20.0->sodapy) (3.0.4)\n",
            "Requirement already satisfied: certifi>=2017.4.17 in /usr/local/lib/python3.6/dist-packages (from requests>=2.20.0->sodapy) (2020.6.20)\n",
            "Requirement already satisfied: idna<3,>=2.5 in /usr/local/lib/python3.6/dist-packages (from requests>=2.20.0->sodapy) (2.9)\n",
            "Requirement already satisfied: urllib3!=1.25.0,!=1.25.1,<1.26,>=1.21.1 in /usr/local/lib/python3.6/dist-packages (from requests>=2.20.0->sodapy) (1.24.3)\n"
          ],
          "name": "stdout"
        }
      ]
    },
    {
      "cell_type": "code",
      "metadata": {
        "id": "ctJsgUqj4EMT",
        "colab_type": "code",
        "colab": {
          "base_uri": "https://localhost:8080/",
          "height": 72
        },
        "outputId": "89436b9a-b275-4310-f266-a8f3cfd3805e"
      },
      "source": [
        "import pandas as pd\n",
        "import copy\n",
        "import seaborn as sns\n",
        "import numpy as np\n",
        "from sodapy import Socrata"
      ],
      "execution_count": null,
      "outputs": [
        {
          "output_type": "stream",
          "text": [
            "/usr/local/lib/python3.6/dist-packages/statsmodels/tools/_testing.py:19: FutureWarning: pandas.util.testing is deprecated. Use the functions in the public API at pandas.testing instead.\n",
            "  import pandas.util.testing as tm\n"
          ],
          "name": "stderr"
        }
      ]
    },
    {
      "cell_type": "markdown",
      "metadata": {
        "id": "iXPOez-24Nno",
        "colab_type": "text"
      },
      "source": [
        "### Base de datos inundaciones"
      ]
    },
    {
      "cell_type": "code",
      "metadata": {
        "id": "mAm4YM0GsGWZ",
        "colab_type": "code",
        "colab": {
          "base_uri": "https://localhost:8080/",
          "height": 34
        },
        "outputId": "778fa2cd-4988-4208-ce2a-a4d122713b55"
      },
      "source": [
        "client = Socrata(\"www.datos.gov.co\", None)\n",
        "results = client.get(\"es7m-wj39\", limit=2000)\n",
        "dataAll = pd.DataFrame.from_records(results)\n"
      ],
      "execution_count": null,
      "outputs": [
        {
          "output_type": "stream",
          "text": [
            "WARNING:root:Requests made without an app_token will be subject to strict throttling limits.\n"
          ],
          "name": "stderr"
        }
      ]
    },
    {
      "cell_type": "code",
      "metadata": {
        "id": "LBcLlQSjRdGw",
        "colab_type": "code",
        "colab": {
          "base_uri": "https://localhost:8080/",
          "height": 173
        },
        "outputId": "b87a8688-15af-4ec9-ac83-6328b22cecb1"
      },
      "source": [
        "dataAll.dtypes"
      ],
      "execution_count": null,
      "outputs": [
        {
          "output_type": "execute_result",
          "data": {
            "text/plain": [
              "fecha              object\n",
              "departamento       object\n",
              "municipio          object\n",
              "evento             object\n",
              "personas           object\n",
              "familias           object\n",
              "viviendasaver      object\n",
              "viviendasdestru    object\n",
              "dtype: object"
            ]
          },
          "metadata": {
            "tags": []
          },
          "execution_count": 4
        }
      ]
    },
    {
      "cell_type": "code",
      "metadata": {
        "id": "3mobW_rrR8W0",
        "colab_type": "code",
        "colab": {
          "base_uri": "https://localhost:8080/",
          "height": 173
        },
        "outputId": "6d56a4b1-566c-4125-d651-23f272c549c3"
      },
      "source": [
        "dataAll['fecha'] = dataAll['fecha'].apply(lambda x: pd.to_datetime(x, errors='coerce', utc=True))\n",
        "dataAll.dtypes"
      ],
      "execution_count": null,
      "outputs": [
        {
          "output_type": "execute_result",
          "data": {
            "text/plain": [
              "fecha              datetime64[ns, UTC]\n",
              "departamento                    object\n",
              "municipio                       object\n",
              "evento                          object\n",
              "personas                        object\n",
              "familias                        object\n",
              "viviendasaver                   object\n",
              "viviendasdestru                 object\n",
              "dtype: object"
            ]
          },
          "metadata": {
            "tags": []
          },
          "execution_count": 5
        }
      ]
    },
    {
      "cell_type": "code",
      "metadata": {
        "id": "cPV1wGb5S0Ve",
        "colab_type": "code",
        "colab": {
          "base_uri": "https://localhost:8080/",
          "height": 278
        },
        "outputId": "5183a4d8-cd54-4d5d-9a68-3fdb43685ffa"
      },
      "source": [
        "dataAll.info()"
      ],
      "execution_count": null,
      "outputs": [
        {
          "output_type": "stream",
          "text": [
            "<class 'pandas.core.frame.DataFrame'>\n",
            "RangeIndex: 2000 entries, 0 to 1999\n",
            "Data columns (total 8 columns):\n",
            " #   Column           Non-Null Count  Dtype              \n",
            "---  ------           --------------  -----              \n",
            " 0   fecha            2000 non-null   datetime64[ns, UTC]\n",
            " 1   departamento     2000 non-null   object             \n",
            " 2   municipio        2000 non-null   object             \n",
            " 3   evento           2000 non-null   object             \n",
            " 4   personas         1030 non-null   object             \n",
            " 5   familias         1023 non-null   object             \n",
            " 6   viviendasaver    886 non-null    object             \n",
            " 7   viviendasdestru  154 non-null    object             \n",
            "dtypes: datetime64[ns, UTC](1), object(7)\n",
            "memory usage: 125.1+ KB\n"
          ],
          "name": "stdout"
        }
      ]
    },
    {
      "cell_type": "markdown",
      "metadata": {
        "id": "YXg2Had-3xFD",
        "colab_type": "text"
      },
      "source": [
        "**Observar datos faltantes** "
      ]
    },
    {
      "cell_type": "code",
      "metadata": {
        "id": "pHoQJUs92Zrt",
        "colab_type": "code",
        "colab": {
          "base_uri": "https://localhost:8080/",
          "height": 356
        },
        "outputId": "d961141e-3e02-4728-d9d3-4bec0ac38f7b"
      },
      "source": [
        "cols = dataAll.columns\n",
        "colours = ['#000099', '#ffff00'] # specify the colours - yellow is missing. blue is not missing.\n",
        "sns.heatmap(dataAll[cols].isnull(), cmap=sns.color_palette(colours))"
      ],
      "execution_count": null,
      "outputs": [
        {
          "output_type": "execute_result",
          "data": {
            "text/plain": [
              "<matplotlib.axes._subplots.AxesSubplot at 0x7fd9f2105208>"
            ]
          },
          "metadata": {
            "tags": []
          },
          "execution_count": 33
        },
        {
          "output_type": "display_data",
          "data": {
            "image/png": "[encoded data removed]",
            "text/plain": [
              "<Figure size 432x288 with 2 Axes>"
            ]
          },
          "metadata": {
            "tags": [],
            "needs_background": "light"
          }
        }
      ]
    },
    {
      "cell_type": "code",
      "metadata": {
        "id": "rhguIj_BNQK5",
        "colab_type": "code",
        "colab": {
          "base_uri": "https://localhost:8080/",
          "height": 243
        },
        "outputId": "4eff1100-323e-4023-d12b-c42e56acf38b"
      },
      "source": [
        "for col in dataInundAll.columns:\n",
        "    pct_missing = np.mean(dataInundAll[col].isnull())\n",
        "    print('{} - {}%'.format(col, round(pct_missing*100)))"
      ],
      "execution_count": null,
      "outputs": [
        {
          "output_type": "stream",
          "text": [
            "fecha - 0.0%\n",
            "departamento - 0.0%\n",
            "municipio - 0.0%\n",
            "evento - 0.0%\n",
            "personas - 48.0%\n",
            "familias - 49.0%\n",
            "viviendasaver - 56.0%\n",
            "viviendasdestru - 92.0%\n",
            "personas_ismissing - 0.0%\n",
            "familias_ismissing - 0.0%\n",
            "viviendasaver_ismissing - 0.0%\n",
            "viviendasdestru_ismissing - 0.0%\n",
            "num_missing - 0.0%\n"
          ],
          "name": "stdout"
        }
      ]
    },
    {
      "cell_type": "markdown",
      "metadata": {
        "id": "GP4VgkQK4_pM",
        "colab_type": "text"
      },
      "source": [
        "**Filtrar datos solo para cali**"
      ]
    },
    {
      "cell_type": "code",
      "metadata": {
        "id": "SlVlOc8S3eiM",
        "colab_type": "code",
        "colab": {
          "base_uri": "https://localhost:8080/",
          "height": 330
        },
        "outputId": "e2533956-ca7b-413f-e775-baa246877ca2"
      },
      "source": [
        "#filtrar datos solo para cali\n",
        "dataCali=dataAll[dataAll['municipio']==\"CALI\"]\n",
        "print(dataCali)"
      ],
      "execution_count": null,
      "outputs": [
        {
          "output_type": "stream",
          "text": [
            "14\n",
            "                        fecha     departamento  ... viviendasaver viviendasdestru\n",
            "63    2013-09-16T00:00:00.000  VALLE DEL CAUCA  ...            15             NaN\n",
            "276   2013-05-27T00:00:00.000  VALLE DEL CAUCA  ...           NaN             NaN\n",
            "311   2013-05-20T00:00:00.000  VALLE DEL CAUCA  ...           NaN             NaN\n",
            "383   2013-04-29T00:00:00.000  VALLE DEL CAUCA  ...           NaN             NaN\n",
            "505   2013-02-24T00:00:00.000  VALLE DEL CAUCA  ...             4             NaN\n",
            "658   2012-10-23T00:00:00.000  VALLE DEL CAUCA  ...           NaN             NaN\n",
            "1197  2012-05-06T00:00:00.000  VALLE DEL CAUCA  ...            20             NaN\n",
            "1238  2012-04-28T00:00:00.000  VALLE DEL CAUCA  ...            40             NaN\n",
            "1340  2012-04-22T00:00:00.000  VALLE DEL CAUCA  ...           NaN             NaN\n",
            "1399  2012-04-18T00:00:00.000  VALLE DEL CAUCA  ...           NaN             NaN\n",
            "1601  2012-03-25T00:00:00.000  VALLE DEL CAUCA  ...           200             NaN\n",
            "1662  2012-03-10T00:00:00.000  VALLE DEL CAUCA  ...            20             NaN\n",
            "1765  2012-01-24T00:00:00.000  VALLE DEL CAUCA  ...           956             NaN\n",
            "1962  2011-12-05T00:00:00.000  VALLE DEL CAUCA  ...            30             NaN\n",
            "\n",
            "[14 rows x 8 columns]\n"
          ],
          "name": "stdout"
        }
      ]
    },
    {
      "cell_type": "markdown",
      "metadata": {
        "colab_type": "text",
        "id": "CGvwuQqt8orM"
      },
      "source": [
        "### Base de datos presipitaciones y temperatura media 1981-2010\n"
      ]
    },
    {
      "cell_type": "code",
      "metadata": {
        "colab_type": "code",
        "id": "eNcchKpm8orT",
        "colab": {
          "base_uri": "https://localhost:8080/",
          "height": 34
        },
        "outputId": "6bff190e-7905-4e9f-f145-7e13538c8fdc"
      },
      "source": [
        "\n",
        "\n",
        "client = Socrata(\"www.datos.gov.co\", None)\n",
        "results = client.get(\"nsxu-h2dh\", limit=1000)\n",
        "dataAll = pd.DataFrame.from_records(results)"
      ],
      "execution_count": null,
      "outputs": [
        {
          "output_type": "stream",
          "text": [
            "WARNING:root:Requests made without an app_token will be subject to strict throttling limits.\n"
          ],
          "name": "stderr"
        }
      ]
    },
    {
      "cell_type": "code",
      "metadata": {
        "id": "rHgVSSHlmsxS",
        "colab_type": "code",
        "colab": {
          "base_uri": "https://localhost:8080/",
          "height": 513
        },
        "outputId": "257d6681-23c1-4a04-e159-d687543d4af1"
      },
      "source": [
        "dataAll.head(100)"
      ],
      "execution_count": null,
      "outputs": [
        {
          "output_type": "execute_result",
          "data": {
            "text/html": [
              "<div>\n",
              "<style scoped>\n",
              "    .dataframe tbody tr th:only-of-type {\n",
              "        vertical-align: middle;\n",
              "    }\n",
              "\n",
              "    .dataframe tbody tr th {\n",
              "        vertical-align: top;\n",
              "    }\n",
              "\n",
              "    .dataframe thead th {\n",
              "        text-align: right;\n",
              "    }\n",
              "</style>\n",
              "<table border=\"1\" class=\"dataframe\">\n",
              "  <thead>\n",
              "    <tr style=\"text-align: right;\">\n",
              "      <th></th>\n",
              "      <th>codigo</th>\n",
              "      <th>nombre</th>\n",
              "      <th>categoria</th>\n",
              "      <th>departamento</th>\n",
              "      <th>municipio</th>\n",
              "      <th>corriente</th>\n",
              "      <th>lag</th>\n",
              "      <th>lam</th>\n",
              "      <th>las</th>\n",
              "      <th>lac</th>\n",
              "      <th>log</th>\n",
              "      <th>lom</th>\n",
              "      <th>los</th>\n",
              "      <th>loc</th>\n",
              "      <th>altitud</th>\n",
              "      <th>enepreci30a</th>\n",
              "      <th>febpreci30a</th>\n",
              "      <th>marpreci30a</th>\n",
              "      <th>abrpreci30a</th>\n",
              "      <th>maypreci30a</th>\n",
              "      <th>junpreci30a</th>\n",
              "      <th>julpreci30a</th>\n",
              "      <th>agopreci30a</th>\n",
              "      <th>seppreci30a</th>\n",
              "      <th>octpreci30a</th>\n",
              "      <th>novpreci30a</th>\n",
              "      <th>dicpreci30a</th>\n",
              "      <th>totalpreci30a</th>\n",
              "      <th>enetemp30a</th>\n",
              "      <th>febtemp30a</th>\n",
              "      <th>martemp30a</th>\n",
              "      <th>abrtemp30a</th>\n",
              "      <th>maytemp30a</th>\n",
              "      <th>juntemp30a</th>\n",
              "      <th>jultemp30a</th>\n",
              "      <th>agotemp30a</th>\n",
              "      <th>septemp30a</th>\n",
              "      <th>octtemp30a</th>\n",
              "      <th>novtemp30a</th>\n",
              "      <th>dictemp30a</th>\n",
              "      <th>protemp30a</th>\n",
              "    </tr>\n",
              "  </thead>\n",
              "  <tbody>\n",
              "    <tr>\n",
              "      <th>0</th>\n",
              "      <td>22075030</td>\n",
              "      <td>Riomanso</td>\n",
              "      <td>CO</td>\n",
              "      <td>Tolima</td>\n",
              "      <td>Rovira</td>\n",
              "      <td>Manso</td>\n",
              "      <td>4</td>\n",
              "      <td>12</td>\n",
              "      <td>5.8</td>\n",
              "      <td>N</td>\n",
              "      <td>75</td>\n",
              "      <td>17</td>\n",
              "      <td>4.1</td>\n",
              "      <td>W</td>\n",
              "      <td>2020</td>\n",
              "      <td>97.2</td>\n",
              "      <td>125.1</td>\n",
              "      <td>165.7</td>\n",
              "      <td>215.1</td>\n",
              "      <td>213.2</td>\n",
              "      <td>146.9</td>\n",
              "      <td>115.6</td>\n",
              "      <td>107.1</td>\n",
              "      <td>151.9</td>\n",
              "      <td>185.7</td>\n",
              "      <td>179.6</td>\n",
              "      <td>125.1</td>\n",
              "      <td>1822.2</td>\n",
              "      <td>16.7</td>\n",
              "      <td>16.9</td>\n",
              "      <td>17.0</td>\n",
              "      <td>17.2</td>\n",
              "      <td>17.2</td>\n",
              "      <td>17.0</td>\n",
              "      <td>16.8</td>\n",
              "      <td>17.1</td>\n",
              "      <td>17.2</td>\n",
              "      <td>17.0</td>\n",
              "      <td>16.8</td>\n",
              "      <td>16.8</td>\n",
              "      <td>17.0</td>\n",
              "    </tr>\n",
              "    <tr>\n",
              "      <th>1</th>\n",
              "      <td>27015150</td>\n",
              "      <td>Progreso El Hda</td>\n",
              "      <td>CO</td>\n",
              "      <td>Antioquia</td>\n",
              "      <td>Barbosa</td>\n",
              "      <td>Medellin</td>\n",
              "      <td>6</td>\n",
              "      <td>24</td>\n",
              "      <td>50.0</td>\n",
              "      <td>N</td>\n",
              "      <td>75</td>\n",
              "      <td>23</td>\n",
              "      <td>48.0</td>\n",
              "      <td>W</td>\n",
              "      <td>1500</td>\n",
              "      <td>57.5</td>\n",
              "      <td>80.1</td>\n",
              "      <td>113.2</td>\n",
              "      <td>188.6</td>\n",
              "      <td>246.8</td>\n",
              "      <td>199.1</td>\n",
              "      <td>207.6</td>\n",
              "      <td>202.3</td>\n",
              "      <td>234.2</td>\n",
              "      <td>235.4</td>\n",
              "      <td>155.0</td>\n",
              "      <td>83.3</td>\n",
              "      <td>2003.0</td>\n",
              "      <td>21.9</td>\n",
              "      <td>22.2</td>\n",
              "      <td>22.3</td>\n",
              "      <td>22.1</td>\n",
              "      <td>22.1</td>\n",
              "      <td>22.2</td>\n",
              "      <td>22.1</td>\n",
              "      <td>22.2</td>\n",
              "      <td>22.0</td>\n",
              "      <td>21.7</td>\n",
              "      <td>21.7</td>\n",
              "      <td>21.7</td>\n",
              "      <td>22.0</td>\n",
              "    </tr>\n",
              "    <tr>\n",
              "      <th>2</th>\n",
              "      <td>21206260</td>\n",
              "      <td>C.Univ.Agrop-Udca</td>\n",
              "      <td>CO</td>\n",
              "      <td>Bogota DC</td>\n",
              "      <td>Bogota DC</td>\n",
              "      <td>BOGOTA</td>\n",
              "      <td>4</td>\n",
              "      <td>47</td>\n",
              "      <td>55.1</td>\n",
              "      <td>N</td>\n",
              "      <td>74</td>\n",
              "      <td>2</td>\n",
              "      <td>59.0</td>\n",
              "      <td>W</td>\n",
              "      <td>2570</td>\n",
              "      <td>33.3</td>\n",
              "      <td>51.3</td>\n",
              "      <td>73.3</td>\n",
              "      <td>83.7</td>\n",
              "      <td>96.9</td>\n",
              "      <td>58.0</td>\n",
              "      <td>54.1</td>\n",
              "      <td>48.3</td>\n",
              "      <td>53.1</td>\n",
              "      <td>101.0</td>\n",
              "      <td>95.3</td>\n",
              "      <td>53.9</td>\n",
              "      <td>768.9</td>\n",
              "      <td>13.8</td>\n",
              "      <td>13.9</td>\n",
              "      <td>14.0</td>\n",
              "      <td>14.0</td>\n",
              "      <td>14.1</td>\n",
              "      <td>14.0</td>\n",
              "      <td>13.8</td>\n",
              "      <td>13.8</td>\n",
              "      <td>13.7</td>\n",
              "      <td>13.8</td>\n",
              "      <td>13.8</td>\n",
              "      <td>13.9</td>\n",
              "      <td>13.9</td>\n",
              "    </tr>\n",
              "    <tr>\n",
              "      <th>3</th>\n",
              "      <td>35095030</td>\n",
              "      <td>Tunel El</td>\n",
              "      <td>CO</td>\n",
              "      <td>Boyaca</td>\n",
              "      <td>Cuitiva</td>\n",
              "      <td>Lag de Tota</td>\n",
              "      <td>5</td>\n",
              "      <td>34</td>\n",
              "      <td>19.6</td>\n",
              "      <td>N</td>\n",
              "      <td>72</td>\n",
              "      <td>56</td>\n",
              "      <td>38.2</td>\n",
              "      <td>W</td>\n",
              "      <td>3000</td>\n",
              "      <td>17.1</td>\n",
              "      <td>30.4</td>\n",
              "      <td>57.2</td>\n",
              "      <td>95.7</td>\n",
              "      <td>87.8</td>\n",
              "      <td>70.1</td>\n",
              "      <td>77.9</td>\n",
              "      <td>58.8</td>\n",
              "      <td>62.5</td>\n",
              "      <td>87.2</td>\n",
              "      <td>81.4</td>\n",
              "      <td>23.9</td>\n",
              "      <td>749.9</td>\n",
              "      <td>11.6</td>\n",
              "      <td>11.7</td>\n",
              "      <td>11.8</td>\n",
              "      <td>11.8</td>\n",
              "      <td>11.8</td>\n",
              "      <td>11.4</td>\n",
              "      <td>10.9</td>\n",
              "      <td>10.9</td>\n",
              "      <td>11.2</td>\n",
              "      <td>11.4</td>\n",
              "      <td>11.6</td>\n",
              "      <td>11.8</td>\n",
              "      <td>11.5</td>\n",
              "    </tr>\n",
              "    <tr>\n",
              "      <th>4</th>\n",
              "      <td>28035010</td>\n",
              "      <td>Villa Rosa</td>\n",
              "      <td>CO</td>\n",
              "      <td>Cesar</td>\n",
              "      <td>Valledupar</td>\n",
              "      <td>Diluvio</td>\n",
              "      <td>10</td>\n",
              "      <td>11</td>\n",
              "      <td>34.0</td>\n",
              "      <td>N</td>\n",
              "      <td>73</td>\n",
              "      <td>32</td>\n",
              "      <td>50.0</td>\n",
              "      <td>W</td>\n",
              "      <td>70</td>\n",
              "      <td>18.0</td>\n",
              "      <td>10.2</td>\n",
              "      <td>69.3</td>\n",
              "      <td>137.3</td>\n",
              "      <td>167.0</td>\n",
              "      <td>137.3</td>\n",
              "      <td>105.5</td>\n",
              "      <td>154.9</td>\n",
              "      <td>183.8</td>\n",
              "      <td>193.1</td>\n",
              "      <td>132.4</td>\n",
              "      <td>38.2</td>\n",
              "      <td>1344.1</td>\n",
              "      <td>29.4</td>\n",
              "      <td>30.2</td>\n",
              "      <td>30.3</td>\n",
              "      <td>29.6</td>\n",
              "      <td>29.0</td>\n",
              "      <td>28.8</td>\n",
              "      <td>29.2</td>\n",
              "      <td>29.0</td>\n",
              "      <td>28.0</td>\n",
              "      <td>27.7</td>\n",
              "      <td>27.8</td>\n",
              "      <td>28.3</td>\n",
              "      <td>28.9</td>\n",
              "    </tr>\n",
              "    <tr>\n",
              "      <th>...</th>\n",
              "      <td>...</td>\n",
              "      <td>...</td>\n",
              "      <td>...</td>\n",
              "      <td>...</td>\n",
              "      <td>...</td>\n",
              "      <td>...</td>\n",
              "      <td>...</td>\n",
              "      <td>...</td>\n",
              "      <td>...</td>\n",
              "      <td>...</td>\n",
              "      <td>...</td>\n",
              "      <td>...</td>\n",
              "      <td>...</td>\n",
              "      <td>...</td>\n",
              "      <td>...</td>\n",
              "      <td>...</td>\n",
              "      <td>...</td>\n",
              "      <td>...</td>\n",
              "      <td>...</td>\n",
              "      <td>...</td>\n",
              "      <td>...</td>\n",
              "      <td>...</td>\n",
              "      <td>...</td>\n",
              "      <td>...</td>\n",
              "      <td>...</td>\n",
              "      <td>...</td>\n",
              "      <td>...</td>\n",
              "      <td>...</td>\n",
              "      <td>...</td>\n",
              "      <td>...</td>\n",
              "      <td>...</td>\n",
              "      <td>...</td>\n",
              "      <td>...</td>\n",
              "      <td>...</td>\n",
              "      <td>...</td>\n",
              "      <td>...</td>\n",
              "      <td>...</td>\n",
              "      <td>...</td>\n",
              "      <td>...</td>\n",
              "      <td>...</td>\n",
              "      <td>...</td>\n",
              "    </tr>\n",
              "    <tr>\n",
              "      <th>95</th>\n",
              "      <td>26095230</td>\n",
              "      <td>Vinculo El</td>\n",
              "      <td>AM</td>\n",
              "      <td>Valle del Cauca</td>\n",
              "      <td>Guadalajara de Buga</td>\n",
              "      <td>Sonsito</td>\n",
              "      <td>3</td>\n",
              "      <td>50</td>\n",
              "      <td>6.7</td>\n",
              "      <td>N</td>\n",
              "      <td>76</td>\n",
              "      <td>17</td>\n",
              "      <td>58.3</td>\n",
              "      <td>W</td>\n",
              "      <td>979</td>\n",
              "      <td>65.6</td>\n",
              "      <td>73.3</td>\n",
              "      <td>124.0</td>\n",
              "      <td>155.6</td>\n",
              "      <td>123.5</td>\n",
              "      <td>68.1</td>\n",
              "      <td>50.7</td>\n",
              "      <td>60.2</td>\n",
              "      <td>101.7</td>\n",
              "      <td>164.9</td>\n",
              "      <td>133.8</td>\n",
              "      <td>85.0</td>\n",
              "      <td>1206.3</td>\n",
              "      <td>23.7</td>\n",
              "      <td>24.0</td>\n",
              "      <td>24.0</td>\n",
              "      <td>23.6</td>\n",
              "      <td>23.5</td>\n",
              "      <td>23.4</td>\n",
              "      <td>23.7</td>\n",
              "      <td>24.0</td>\n",
              "      <td>23.8</td>\n",
              "      <td>23.2</td>\n",
              "      <td>23.1</td>\n",
              "      <td>23.3</td>\n",
              "      <td>23.6</td>\n",
              "    </tr>\n",
              "    <tr>\n",
              "      <th>96</th>\n",
              "      <td>44045020</td>\n",
              "      <td>Valparaiso</td>\n",
              "      <td>CO</td>\n",
              "      <td>Caqueta</td>\n",
              "      <td>Valparaiso</td>\n",
              "      <td>Pescado</td>\n",
              "      <td>1</td>\n",
              "      <td>11</td>\n",
              "      <td>42.9</td>\n",
              "      <td>N</td>\n",
              "      <td>75</td>\n",
              "      <td>42</td>\n",
              "      <td>16.1</td>\n",
              "      <td>W</td>\n",
              "      <td>270</td>\n",
              "      <td>125.0</td>\n",
              "      <td>212.4</td>\n",
              "      <td>282.0</td>\n",
              "      <td>388.2</td>\n",
              "      <td>360.7</td>\n",
              "      <td>351.0</td>\n",
              "      <td>332.8</td>\n",
              "      <td>237.2</td>\n",
              "      <td>218.1</td>\n",
              "      <td>230.7</td>\n",
              "      <td>214.3</td>\n",
              "      <td>129.9</td>\n",
              "      <td>3028.4</td>\n",
              "      <td>26.9</td>\n",
              "      <td>26.6</td>\n",
              "      <td>26.3</td>\n",
              "      <td>25.8</td>\n",
              "      <td>25.7</td>\n",
              "      <td>25.3</td>\n",
              "      <td>25.2</td>\n",
              "      <td>25.6</td>\n",
              "      <td>26.1</td>\n",
              "      <td>26.4</td>\n",
              "      <td>26.5</td>\n",
              "      <td>26.6</td>\n",
              "      <td>26.1</td>\n",
              "    </tr>\n",
              "    <tr>\n",
              "      <th>97</th>\n",
              "      <td>23085110</td>\n",
              "      <td>Penol El</td>\n",
              "      <td>CO</td>\n",
              "      <td>Antioquia</td>\n",
              "      <td>Penol</td>\n",
              "      <td>Rionegro</td>\n",
              "      <td>6</td>\n",
              "      <td>12</td>\n",
              "      <td>51.3</td>\n",
              "      <td>N</td>\n",
              "      <td>75</td>\n",
              "      <td>14</td>\n",
              "      <td>28.8</td>\n",
              "      <td>W</td>\n",
              "      <td>1956</td>\n",
              "      <td>113.2</td>\n",
              "      <td>112.0</td>\n",
              "      <td>181.0</td>\n",
              "      <td>270.2</td>\n",
              "      <td>296.6</td>\n",
              "      <td>201.4</td>\n",
              "      <td>207.7</td>\n",
              "      <td>236.8</td>\n",
              "      <td>295.5</td>\n",
              "      <td>317.6</td>\n",
              "      <td>220.4</td>\n",
              "      <td>153.2</td>\n",
              "      <td>2605.6</td>\n",
              "      <td>17.8</td>\n",
              "      <td>18.0</td>\n",
              "      <td>18.1</td>\n",
              "      <td>18.3</td>\n",
              "      <td>18.6</td>\n",
              "      <td>18.8</td>\n",
              "      <td>18.7</td>\n",
              "      <td>18.7</td>\n",
              "      <td>18.3</td>\n",
              "      <td>18.0</td>\n",
              "      <td>17.8</td>\n",
              "      <td>17.7</td>\n",
              "      <td>18.2</td>\n",
              "    </tr>\n",
              "    <tr>\n",
              "      <th>98</th>\n",
              "      <td>24025030</td>\n",
              "      <td>Sierra La</td>\n",
              "      <td>CP</td>\n",
              "      <td>Boyaca</td>\n",
              "      <td>Duitama</td>\n",
              "      <td>La Rucia</td>\n",
              "      <td>5</td>\n",
              "      <td>58</td>\n",
              "      <td>1.3</td>\n",
              "      <td>N</td>\n",
              "      <td>73</td>\n",
              "      <td>9</td>\n",
              "      <td>43.6</td>\n",
              "      <td>W</td>\n",
              "      <td>2700</td>\n",
              "      <td>119.7</td>\n",
              "      <td>138.5</td>\n",
              "      <td>208.9</td>\n",
              "      <td>249.9</td>\n",
              "      <td>210.8</td>\n",
              "      <td>91.5</td>\n",
              "      <td>75.3</td>\n",
              "      <td>88.6</td>\n",
              "      <td>137.1</td>\n",
              "      <td>251.6</td>\n",
              "      <td>216.0</td>\n",
              "      <td>128.3</td>\n",
              "      <td>1907.5</td>\n",
              "      <td>11.9</td>\n",
              "      <td>12.0</td>\n",
              "      <td>12.1</td>\n",
              "      <td>12.3</td>\n",
              "      <td>12.4</td>\n",
              "      <td>12.3</td>\n",
              "      <td>12.2</td>\n",
              "      <td>12.3</td>\n",
              "      <td>12.1</td>\n",
              "      <td>11.9</td>\n",
              "      <td>11.9</td>\n",
              "      <td>11.9</td>\n",
              "      <td>12.1</td>\n",
              "    </tr>\n",
              "    <tr>\n",
              "      <th>99</th>\n",
              "      <td>24015020</td>\n",
              "      <td>Bertha</td>\n",
              "      <td>CO</td>\n",
              "      <td>Boyaca</td>\n",
              "      <td>Moniquira</td>\n",
              "      <td>Suarez</td>\n",
              "      <td>5</td>\n",
              "      <td>53</td>\n",
              "      <td>0.0</td>\n",
              "      <td>N</td>\n",
              "      <td>73</td>\n",
              "      <td>36</td>\n",
              "      <td>0.0</td>\n",
              "      <td>W</td>\n",
              "      <td>1700</td>\n",
              "      <td>62.0</td>\n",
              "      <td>93.3</td>\n",
              "      <td>111.9</td>\n",
              "      <td>236.0</td>\n",
              "      <td>298.2</td>\n",
              "      <td>186.7</td>\n",
              "      <td>152.3</td>\n",
              "      <td>150.8</td>\n",
              "      <td>208.1</td>\n",
              "      <td>240.8</td>\n",
              "      <td>177.4</td>\n",
              "      <td>88.9</td>\n",
              "      <td>2006.3</td>\n",
              "      <td>19.0</td>\n",
              "      <td>19.3</td>\n",
              "      <td>19.6</td>\n",
              "      <td>19.5</td>\n",
              "      <td>19.3</td>\n",
              "      <td>19.1</td>\n",
              "      <td>18.7</td>\n",
              "      <td>18.9</td>\n",
              "      <td>18.9</td>\n",
              "      <td>18.8</td>\n",
              "      <td>19.1</td>\n",
              "      <td>19.0</td>\n",
              "      <td>19.1</td>\n",
              "    </tr>\n",
              "  </tbody>\n",
              "</table>\n",
              "<p>100 rows × 41 columns</p>\n",
              "</div>"
            ],
            "text/plain": [
              "      codigo             nombre categoria  ... novtemp30a dictemp30a protemp30a\n",
              "0   22075030           Riomanso        CO  ...       16.8       16.8       17.0\n",
              "1   27015150    Progreso El Hda        CO  ...       21.7       21.7       22.0\n",
              "2   21206260  C.Univ.Agrop-Udca        CO  ...       13.8       13.9       13.9\n",
              "3   35095030           Tunel El        CO  ...       11.6       11.8       11.5\n",
              "4   28035010         Villa Rosa        CO  ...       27.8       28.3       28.9\n",
              "..       ...                ...       ...  ...        ...        ...        ...\n",
              "95  26095230         Vinculo El        AM  ...       23.1       23.3       23.6\n",
              "96  44045020         Valparaiso        CO  ...       26.5       26.6       26.1\n",
              "97  23085110           Penol El        CO  ...       17.8       17.7       18.2\n",
              "98  24025030          Sierra La        CP  ...       11.9       11.9       12.1\n",
              "99  24015020             Bertha        CO  ...       19.1       19.0       19.1\n",
              "\n",
              "[100 rows x 41 columns]"
            ]
          },
          "metadata": {
            "tags": []
          },
          "execution_count": 51
        }
      ]
    },
    {
      "cell_type": "code",
      "metadata": {
        "colab_type": "code",
        "id": "0acqxZTbj14z",
        "colab": {
          "base_uri": "https://localhost:8080/",
          "height": 851
        },
        "outputId": "483302c1-5a50-452b-8e84-8e52995df17c"
      },
      "source": [
        "dataAll.info()"
      ],
      "execution_count": null,
      "outputs": [
        {
          "output_type": "stream",
          "text": [
            "<class 'pandas.core.frame.DataFrame'>\n",
            "RangeIndex: 450 entries, 0 to 449\n",
            "Data columns (total 41 columns):\n",
            " #   Column         Non-Null Count  Dtype \n",
            "---  ------         --------------  ----- \n",
            " 0   codigo         450 non-null    object\n",
            " 1   nombre         450 non-null    object\n",
            " 2   categoria      450 non-null    object\n",
            " 3   departamento   450 non-null    object\n",
            " 4   municipio      450 non-null    object\n",
            " 5   corriente      450 non-null    object\n",
            " 6   lag            450 non-null    object\n",
            " 7   lam            450 non-null    object\n",
            " 8   las            450 non-null    object\n",
            " 9   lac            450 non-null    object\n",
            " 10  log            450 non-null    object\n",
            " 11  lom            450 non-null    object\n",
            " 12  los            450 non-null    object\n",
            " 13  loc            450 non-null    object\n",
            " 14  altitud        450 non-null    object\n",
            " 15  enepreci30a    450 non-null    object\n",
            " 16  febpreci30a    450 non-null    object\n",
            " 17  marpreci30a    450 non-null    object\n",
            " 18  abrpreci30a    450 non-null    object\n",
            " 19  maypreci30a    450 non-null    object\n",
            " 20  junpreci30a    450 non-null    object\n",
            " 21  julpreci30a    450 non-null    object\n",
            " 22  agopreci30a    450 non-null    object\n",
            " 23  seppreci30a    450 non-null    object\n",
            " 24  octpreci30a    450 non-null    object\n",
            " 25  novpreci30a    450 non-null    object\n",
            " 26  dicpreci30a    450 non-null    object\n",
            " 27  totalpreci30a  450 non-null    object\n",
            " 28  enetemp30a     450 non-null    object\n",
            " 29  febtemp30a     450 non-null    object\n",
            " 30  martemp30a     450 non-null    object\n",
            " 31  abrtemp30a     450 non-null    object\n",
            " 32  maytemp30a     450 non-null    object\n",
            " 33  juntemp30a     450 non-null    object\n",
            " 34  jultemp30a     450 non-null    object\n",
            " 35  agotemp30a     450 non-null    object\n",
            " 36  septemp30a     450 non-null    object\n",
            " 37  octtemp30a     450 non-null    object\n",
            " 38  novtemp30a     450 non-null    object\n",
            " 39  dictemp30a     450 non-null    object\n",
            " 40  protemp30a     450 non-null    object\n",
            "dtypes: object(41)\n",
            "memory usage: 144.3+ KB\n"
          ],
          "name": "stdout"
        }
      ]
    },
    {
      "cell_type": "markdown",
      "metadata": {
        "colab_type": "text",
        "id": "Yr2Tic348orm"
      },
      "source": [
        "**Observar datos faltantes** "
      ]
    },
    {
      "cell_type": "code",
      "metadata": {
        "colab_type": "code",
        "id": "2S7MnC3V8oro",
        "colab": {
          "base_uri": "https://localhost:8080/",
          "height": 342
        },
        "outputId": "2d808f05-0916-4ebf-8d34-389845e57321"
      },
      "source": [
        "cols = dataAll.columns\n",
        "colours = ['#000099', '#ffff00'] # specify the colours - yellow is missing. blue is not missing.\n",
        "sns.heatmap(dataAll[cols].isnull(), cmap=sns.color_palette(colours))"
      ],
      "execution_count": null,
      "outputs": [
        {
          "output_type": "execute_result",
          "data": {
            "text/plain": [
              "<matplotlib.axes._subplots.AxesSubplot at 0x7f3b20edb8d0>"
            ]
          },
          "metadata": {
            "tags": []
          },
          "execution_count": 44
        },
        {
          "output_type": "display_data",
          "data": {
            "image/png": "[encoded data removed]",
            "text/plain": [
              "<Figure size 432x288 with 2 Axes>"
            ]
          },
          "metadata": {
            "tags": [],
            "needs_background": "light"
          }
        }
      ]
    },
    {
      "cell_type": "code",
      "metadata": {
        "colab_type": "code",
        "id": "LzgJkqbN8or2",
        "colab": {
          "base_uri": "https://localhost:8080/",
          "height": 729
        },
        "outputId": "c4031852-4c60-4da3-bd92-763f1c081d7b"
      },
      "source": [
        "for col in dataAll.columns:\n",
        "    pct_missing = np.mean(dataAll[col].isnull())\n",
        "    print('{} - {}%'.format(col, round(pct_missing*100)))"
      ],
      "execution_count": null,
      "outputs": [
        {
          "output_type": "stream",
          "text": [
            "codigo - 0.0%\n",
            "nombre - 0.0%\n",
            "categoria - 0.0%\n",
            "departamento - 0.0%\n",
            "municipio - 0.0%\n",
            "corriente - 0.0%\n",
            "lag - 0.0%\n",
            "lam - 0.0%\n",
            "las - 0.0%\n",
            "lac - 0.0%\n",
            "log - 0.0%\n",
            "lom - 0.0%\n",
            "los - 0.0%\n",
            "loc - 0.0%\n",
            "altitud - 0.0%\n",
            "enepreci30a - 0.0%\n",
            "febpreci30a - 0.0%\n",
            "marpreci30a - 0.0%\n",
            "abrpreci30a - 0.0%\n",
            "maypreci30a - 0.0%\n",
            "junpreci30a - 0.0%\n",
            "julpreci30a - 0.0%\n",
            "agopreci30a - 0.0%\n",
            "seppreci30a - 0.0%\n",
            "octpreci30a - 0.0%\n",
            "novpreci30a - 0.0%\n",
            "dicpreci30a - 0.0%\n",
            "totalpreci30a - 0.0%\n",
            "enetemp30a - 0.0%\n",
            "febtemp30a - 0.0%\n",
            "martemp30a - 0.0%\n",
            "abrtemp30a - 0.0%\n",
            "maytemp30a - 0.0%\n",
            "juntemp30a - 0.0%\n",
            "jultemp30a - 0.0%\n",
            "agotemp30a - 0.0%\n",
            "septemp30a - 0.0%\n",
            "octtemp30a - 0.0%\n",
            "novtemp30a - 0.0%\n",
            "dictemp30a - 0.0%\n",
            "protemp30a - 0.0%\n"
          ],
          "name": "stdout"
        }
      ]
    },
    {
      "cell_type": "markdown",
      "metadata": {
        "colab_type": "text",
        "id": "U_4VfDcy8or-"
      },
      "source": [
        "**Filtrar datos solo para cali**"
      ]
    },
    {
      "cell_type": "code",
      "metadata": {
        "colab_type": "code",
        "id": "Le_iJq1P8osB",
        "colab": {
          "base_uri": "https://localhost:8080/",
          "height": 1000
        },
        "outputId": "bb46b6ea-3092-4e04-b503-612fcf77e8a8"
      },
      "source": [
        "print(len(dataAll))\n",
        "#filtrar datos solo para cali\n",
        "dataInundCali=dataAll[dataAll['departamento']==\"Valle del Cauca\"]\n",
        "dataInundCali.head(22)\n",
        "#print(dataInundCali['municipio'])"
      ],
      "execution_count": null,
      "outputs": [
        {
          "output_type": "stream",
          "text": [
            "450\n"
          ],
          "name": "stdout"
        },
        {
          "output_type": "execute_result",
          "data": {
            "text/html": [
              "<div>\n",
              "<style scoped>\n",
              "    .dataframe tbody tr th:only-of-type {\n",
              "        vertical-align: middle;\n",
              "    }\n",
              "\n",
              "    .dataframe tbody tr th {\n",
              "        vertical-align: top;\n",
              "    }\n",
              "\n",
              "    .dataframe thead th {\n",
              "        text-align: right;\n",
              "    }\n",
              "</style>\n",
              "<table border=\"1\" class=\"dataframe\">\n",
              "  <thead>\n",
              "    <tr style=\"text-align: right;\">\n",
              "      <th></th>\n",
              "      <th>codigo</th>\n",
              "      <th>nombre</th>\n",
              "      <th>categoria</th>\n",
              "      <th>departamento</th>\n",
              "      <th>municipio</th>\n",
              "      <th>corriente</th>\n",
              "      <th>lag</th>\n",
              "      <th>lam</th>\n",
              "      <th>las</th>\n",
              "      <th>lac</th>\n",
              "      <th>log</th>\n",
              "      <th>lom</th>\n",
              "      <th>los</th>\n",
              "      <th>loc</th>\n",
              "      <th>altitud</th>\n",
              "      <th>enepreci30a</th>\n",
              "      <th>febpreci30a</th>\n",
              "      <th>marpreci30a</th>\n",
              "      <th>abrpreci30a</th>\n",
              "      <th>maypreci30a</th>\n",
              "      <th>junpreci30a</th>\n",
              "      <th>julpreci30a</th>\n",
              "      <th>agopreci30a</th>\n",
              "      <th>seppreci30a</th>\n",
              "      <th>octpreci30a</th>\n",
              "      <th>novpreci30a</th>\n",
              "      <th>dicpreci30a</th>\n",
              "      <th>totalpreci30a</th>\n",
              "      <th>enetemp30a</th>\n",
              "      <th>febtemp30a</th>\n",
              "      <th>martemp30a</th>\n",
              "      <th>abrtemp30a</th>\n",
              "      <th>maytemp30a</th>\n",
              "      <th>juntemp30a</th>\n",
              "      <th>jultemp30a</th>\n",
              "      <th>agotemp30a</th>\n",
              "      <th>septemp30a</th>\n",
              "      <th>octtemp30a</th>\n",
              "      <th>novtemp30a</th>\n",
              "      <th>dictemp30a</th>\n",
              "      <th>protemp30a</th>\n",
              "    </tr>\n",
              "  </thead>\n",
              "  <tbody>\n",
              "    <tr>\n",
              "      <th>35</th>\n",
              "      <td>54035020</td>\n",
              "      <td>Argelia El Recreo</td>\n",
              "      <td>CO</td>\n",
              "      <td>Valle del Cauca</td>\n",
              "      <td>Argelia</td>\n",
              "      <td>Las Vueltas</td>\n",
              "      <td>4</td>\n",
              "      <td>44</td>\n",
              "      <td>0.0</td>\n",
              "      <td>N</td>\n",
              "      <td>76</td>\n",
              "      <td>7</td>\n",
              "      <td>0.0</td>\n",
              "      <td>W</td>\n",
              "      <td>1600</td>\n",
              "      <td>79.8</td>\n",
              "      <td>80.3</td>\n",
              "      <td>112.9</td>\n",
              "      <td>170.1</td>\n",
              "      <td>167.7</td>\n",
              "      <td>106.5</td>\n",
              "      <td>94.9</td>\n",
              "      <td>86.4</td>\n",
              "      <td>126.5</td>\n",
              "      <td>184.0</td>\n",
              "      <td>148.2</td>\n",
              "      <td>91.8</td>\n",
              "      <td>1438.7</td>\n",
              "      <td>20.6</td>\n",
              "      <td>20.7</td>\n",
              "      <td>20.6</td>\n",
              "      <td>20.5</td>\n",
              "      <td>20.5</td>\n",
              "      <td>20.6</td>\n",
              "      <td>20.4</td>\n",
              "      <td>20.6</td>\n",
              "      <td>20.5</td>\n",
              "      <td>20.1</td>\n",
              "      <td>20.3</td>\n",
              "      <td>20.4</td>\n",
              "      <td>20.4</td>\n",
              "    </tr>\n",
              "    <tr>\n",
              "      <th>41</th>\n",
              "      <td>53115030</td>\n",
              "      <td>Julio Fernandez</td>\n",
              "      <td>CO</td>\n",
              "      <td>Valle del Cauca</td>\n",
              "      <td>Restrepo</td>\n",
              "      <td>Grande</td>\n",
              "      <td>3</td>\n",
              "      <td>49</td>\n",
              "      <td>0.0</td>\n",
              "      <td>N</td>\n",
              "      <td>76</td>\n",
              "      <td>31</td>\n",
              "      <td>0.0</td>\n",
              "      <td>W</td>\n",
              "      <td>1360</td>\n",
              "      <td>49.4</td>\n",
              "      <td>67.6</td>\n",
              "      <td>76.4</td>\n",
              "      <td>130.3</td>\n",
              "      <td>128.1</td>\n",
              "      <td>84.7</td>\n",
              "      <td>59.5</td>\n",
              "      <td>65.6</td>\n",
              "      <td>106.5</td>\n",
              "      <td>145.2</td>\n",
              "      <td>108.5</td>\n",
              "      <td>66.0</td>\n",
              "      <td>1087.8</td>\n",
              "      <td>20.0</td>\n",
              "      <td>20.2</td>\n",
              "      <td>20.3</td>\n",
              "      <td>20.3</td>\n",
              "      <td>20.2</td>\n",
              "      <td>20.2</td>\n",
              "      <td>19.9</td>\n",
              "      <td>20.1</td>\n",
              "      <td>19.9</td>\n",
              "      <td>19.6</td>\n",
              "      <td>19.7</td>\n",
              "      <td>19.8</td>\n",
              "      <td>20.0</td>\n",
              "    </tr>\n",
              "    <tr>\n",
              "      <th>46</th>\n",
              "      <td>54075040</td>\n",
              "      <td>Mision La</td>\n",
              "      <td>CO</td>\n",
              "      <td>Valle del Cauca</td>\n",
              "      <td>Buenaventura</td>\n",
              "      <td>San Juan</td>\n",
              "      <td>4</td>\n",
              "      <td>13</td>\n",
              "      <td>21.1</td>\n",
              "      <td>N</td>\n",
              "      <td>77</td>\n",
              "      <td>16</td>\n",
              "      <td>34.7</td>\n",
              "      <td>W</td>\n",
              "      <td>5</td>\n",
              "      <td>418.1</td>\n",
              "      <td>272.5</td>\n",
              "      <td>337.3</td>\n",
              "      <td>458.0</td>\n",
              "      <td>642.6</td>\n",
              "      <td>612.6</td>\n",
              "      <td>690.0</td>\n",
              "      <td>760.8</td>\n",
              "      <td>819.6</td>\n",
              "      <td>790.0</td>\n",
              "      <td>728.5</td>\n",
              "      <td>675.8</td>\n",
              "      <td>7205.9</td>\n",
              "      <td>25.6</td>\n",
              "      <td>26.0</td>\n",
              "      <td>26.1</td>\n",
              "      <td>26.1</td>\n",
              "      <td>26.1</td>\n",
              "      <td>25.8</td>\n",
              "      <td>25.8</td>\n",
              "      <td>25.7</td>\n",
              "      <td>25.5</td>\n",
              "      <td>25.3</td>\n",
              "      <td>25.2</td>\n",
              "      <td>25.3</td>\n",
              "      <td>25.7</td>\n",
              "    </tr>\n",
              "    <tr>\n",
              "      <th>84</th>\n",
              "      <td>26125130</td>\n",
              "      <td>Cumbarco</td>\n",
              "      <td>CO</td>\n",
              "      <td>Valle del Cauca</td>\n",
              "      <td>Sevilla</td>\n",
              "      <td>La Vieja</td>\n",
              "      <td>4</td>\n",
              "      <td>11</td>\n",
              "      <td>6.1</td>\n",
              "      <td>N</td>\n",
              "      <td>75</td>\n",
              "      <td>49</td>\n",
              "      <td>56.5</td>\n",
              "      <td>W</td>\n",
              "      <td>1692</td>\n",
              "      <td>158.2</td>\n",
              "      <td>152.7</td>\n",
              "      <td>228.9</td>\n",
              "      <td>277.5</td>\n",
              "      <td>251.3</td>\n",
              "      <td>143.4</td>\n",
              "      <td>102.6</td>\n",
              "      <td>94.9</td>\n",
              "      <td>190.8</td>\n",
              "      <td>335.5</td>\n",
              "      <td>279.0</td>\n",
              "      <td>208.4</td>\n",
              "      <td>2423.2</td>\n",
              "      <td>18.9</td>\n",
              "      <td>19.0</td>\n",
              "      <td>18.8</td>\n",
              "      <td>18.8</td>\n",
              "      <td>18.8</td>\n",
              "      <td>19.0</td>\n",
              "      <td>19.2</td>\n",
              "      <td>19.4</td>\n",
              "      <td>19.0</td>\n",
              "      <td>18.5</td>\n",
              "      <td>18.4</td>\n",
              "      <td>18.6</td>\n",
              "      <td>18.9</td>\n",
              "    </tr>\n",
              "    <tr>\n",
              "      <th>95</th>\n",
              "      <td>26095230</td>\n",
              "      <td>Vinculo El</td>\n",
              "      <td>AM</td>\n",
              "      <td>Valle del Cauca</td>\n",
              "      <td>Guadalajara de Buga</td>\n",
              "      <td>Sonsito</td>\n",
              "      <td>3</td>\n",
              "      <td>50</td>\n",
              "      <td>6.7</td>\n",
              "      <td>N</td>\n",
              "      <td>76</td>\n",
              "      <td>17</td>\n",
              "      <td>58.3</td>\n",
              "      <td>W</td>\n",
              "      <td>979</td>\n",
              "      <td>65.6</td>\n",
              "      <td>73.3</td>\n",
              "      <td>124.0</td>\n",
              "      <td>155.6</td>\n",
              "      <td>123.5</td>\n",
              "      <td>68.1</td>\n",
              "      <td>50.7</td>\n",
              "      <td>60.2</td>\n",
              "      <td>101.7</td>\n",
              "      <td>164.9</td>\n",
              "      <td>133.8</td>\n",
              "      <td>85.0</td>\n",
              "      <td>1206.3</td>\n",
              "      <td>23.7</td>\n",
              "      <td>24.0</td>\n",
              "      <td>24.0</td>\n",
              "      <td>23.6</td>\n",
              "      <td>23.5</td>\n",
              "      <td>23.4</td>\n",
              "      <td>23.7</td>\n",
              "      <td>24.0</td>\n",
              "      <td>23.8</td>\n",
              "      <td>23.2</td>\n",
              "      <td>23.1</td>\n",
              "      <td>23.3</td>\n",
              "      <td>23.6</td>\n",
              "    </tr>\n",
              "    <tr>\n",
              "      <th>107</th>\n",
              "      <td>26105110</td>\n",
              "      <td>Ing Riopaila</td>\n",
              "      <td>CO</td>\n",
              "      <td>Valle del Cauca</td>\n",
              "      <td>Zarzal</td>\n",
              "      <td>CAUCA</td>\n",
              "      <td>4</td>\n",
              "      <td>19</td>\n",
              "      <td>5.6</td>\n",
              "      <td>N</td>\n",
              "      <td>76</td>\n",
              "      <td>4</td>\n",
              "      <td>56.7</td>\n",
              "      <td>W</td>\n",
              "      <td>941</td>\n",
              "      <td>57.1</td>\n",
              "      <td>74.9</td>\n",
              "      <td>142.1</td>\n",
              "      <td>156.6</td>\n",
              "      <td>173.3</td>\n",
              "      <td>107.4</td>\n",
              "      <td>83.8</td>\n",
              "      <td>77.6</td>\n",
              "      <td>98.3</td>\n",
              "      <td>147.9</td>\n",
              "      <td>135.7</td>\n",
              "      <td>102.0</td>\n",
              "      <td>1346.7</td>\n",
              "      <td>24.5</td>\n",
              "      <td>24.9</td>\n",
              "      <td>24.7</td>\n",
              "      <td>24.2</td>\n",
              "      <td>24.1</td>\n",
              "      <td>24.1</td>\n",
              "      <td>24.3</td>\n",
              "      <td>24.5</td>\n",
              "      <td>24.4</td>\n",
              "      <td>24.1</td>\n",
              "      <td>24.0</td>\n",
              "      <td>24.0</td>\n",
              "      <td>24.3</td>\n",
              "    </tr>\n",
              "    <tr>\n",
              "      <th>111</th>\n",
              "      <td>26095080</td>\n",
              "      <td>Tenerife</td>\n",
              "      <td>CO</td>\n",
              "      <td>Valle del Cauca</td>\n",
              "      <td>El Cerrito</td>\n",
              "      <td>Amaime</td>\n",
              "      <td>3</td>\n",
              "      <td>43</td>\n",
              "      <td>47.8</td>\n",
              "      <td>N</td>\n",
              "      <td>76</td>\n",
              "      <td>4</td>\n",
              "      <td>29.4</td>\n",
              "      <td>W</td>\n",
              "      <td>2609</td>\n",
              "      <td>95.6</td>\n",
              "      <td>80.2</td>\n",
              "      <td>123.3</td>\n",
              "      <td>135.6</td>\n",
              "      <td>108.6</td>\n",
              "      <td>55.1</td>\n",
              "      <td>41.0</td>\n",
              "      <td>42.6</td>\n",
              "      <td>72.1</td>\n",
              "      <td>168.0</td>\n",
              "      <td>158.1</td>\n",
              "      <td>129.7</td>\n",
              "      <td>1209.8</td>\n",
              "      <td>13.4</td>\n",
              "      <td>13.5</td>\n",
              "      <td>13.7</td>\n",
              "      <td>13.8</td>\n",
              "      <td>13.9</td>\n",
              "      <td>13.9</td>\n",
              "      <td>13.8</td>\n",
              "      <td>13.9</td>\n",
              "      <td>13.7</td>\n",
              "      <td>13.5</td>\n",
              "      <td>13.3</td>\n",
              "      <td>13.3</td>\n",
              "      <td>13.6</td>\n",
              "    </tr>\n",
              "    <tr>\n",
              "      <th>125</th>\n",
              "      <td>26105140</td>\n",
              "      <td>Barragan</td>\n",
              "      <td>CO</td>\n",
              "      <td>Valle del Cauca</td>\n",
              "      <td>Tulua</td>\n",
              "      <td>Bugalagrande</td>\n",
              "      <td>4</td>\n",
              "      <td>2</td>\n",
              "      <td>0.0</td>\n",
              "      <td>N</td>\n",
              "      <td>75</td>\n",
              "      <td>53</td>\n",
              "      <td>17.0</td>\n",
              "      <td>W</td>\n",
              "      <td>2902</td>\n",
              "      <td>76.0</td>\n",
              "      <td>68.7</td>\n",
              "      <td>99.4</td>\n",
              "      <td>108.8</td>\n",
              "      <td>98.4</td>\n",
              "      <td>47.3</td>\n",
              "      <td>34.1</td>\n",
              "      <td>38.3</td>\n",
              "      <td>61.4</td>\n",
              "      <td>141.2</td>\n",
              "      <td>129.6</td>\n",
              "      <td>88.1</td>\n",
              "      <td>975.1</td>\n",
              "      <td>11.7</td>\n",
              "      <td>11.8</td>\n",
              "      <td>11.9</td>\n",
              "      <td>12.0</td>\n",
              "      <td>12.2</td>\n",
              "      <td>12.0</td>\n",
              "      <td>11.7</td>\n",
              "      <td>11.8</td>\n",
              "      <td>11.7</td>\n",
              "      <td>11.4</td>\n",
              "      <td>11.3</td>\n",
              "      <td>11.5</td>\n",
              "      <td>11.7</td>\n",
              "    </tr>\n",
              "    <tr>\n",
              "      <th>147</th>\n",
              "      <td>53115020</td>\n",
              "      <td>Colpuertos</td>\n",
              "      <td>CP</td>\n",
              "      <td>Valle del Cauca</td>\n",
              "      <td>Buenaventura</td>\n",
              "      <td>Pacifico</td>\n",
              "      <td>3</td>\n",
              "      <td>53</td>\n",
              "      <td>0.0</td>\n",
              "      <td>N</td>\n",
              "      <td>77</td>\n",
              "      <td>4</td>\n",
              "      <td>0.0</td>\n",
              "      <td>W</td>\n",
              "      <td>10</td>\n",
              "      <td>410.4</td>\n",
              "      <td>307.1</td>\n",
              "      <td>384.5</td>\n",
              "      <td>552.1</td>\n",
              "      <td>667.0</td>\n",
              "      <td>581.9</td>\n",
              "      <td>685.2</td>\n",
              "      <td>818.6</td>\n",
              "      <td>911.3</td>\n",
              "      <td>881.5</td>\n",
              "      <td>788.0</td>\n",
              "      <td>653.2</td>\n",
              "      <td>7609.0</td>\n",
              "      <td>26.2</td>\n",
              "      <td>26.6</td>\n",
              "      <td>26.7</td>\n",
              "      <td>26.7</td>\n",
              "      <td>26.6</td>\n",
              "      <td>26.3</td>\n",
              "      <td>26.3</td>\n",
              "      <td>26.2</td>\n",
              "      <td>26.0</td>\n",
              "      <td>25.9</td>\n",
              "      <td>25.9</td>\n",
              "      <td>26.1</td>\n",
              "      <td>26.3</td>\n",
              "    </tr>\n",
              "    <tr>\n",
              "      <th>150</th>\n",
              "      <td>53115010</td>\n",
              "      <td>Apto Buenaventura</td>\n",
              "      <td>SP</td>\n",
              "      <td>Valle del Cauca</td>\n",
              "      <td>Buenaventura</td>\n",
              "      <td>Pacifico</td>\n",
              "      <td>3</td>\n",
              "      <td>49</td>\n",
              "      <td>12.7</td>\n",
              "      <td>N</td>\n",
              "      <td>76</td>\n",
              "      <td>59</td>\n",
              "      <td>32.4</td>\n",
              "      <td>W</td>\n",
              "      <td>14</td>\n",
              "      <td>413.9</td>\n",
              "      <td>290.9</td>\n",
              "      <td>392.7</td>\n",
              "      <td>530.2</td>\n",
              "      <td>618.9</td>\n",
              "      <td>533.3</td>\n",
              "      <td>578.3</td>\n",
              "      <td>666.2</td>\n",
              "      <td>781.2</td>\n",
              "      <td>807.3</td>\n",
              "      <td>713.9</td>\n",
              "      <td>571.4</td>\n",
              "      <td>6898.2</td>\n",
              "      <td>25.8</td>\n",
              "      <td>26.1</td>\n",
              "      <td>26.4</td>\n",
              "      <td>26.4</td>\n",
              "      <td>26.3</td>\n",
              "      <td>26.0</td>\n",
              "      <td>25.9</td>\n",
              "      <td>26.0</td>\n",
              "      <td>25.9</td>\n",
              "      <td>25.7</td>\n",
              "      <td>25.6</td>\n",
              "      <td>25.7</td>\n",
              "      <td>26.0</td>\n",
              "    </tr>\n",
              "    <tr>\n",
              "      <th>156</th>\n",
              "      <td>26115040</td>\n",
              "      <td>Cent Admo La Union</td>\n",
              "      <td>CP</td>\n",
              "      <td>Valle del Cauca</td>\n",
              "      <td>La Union</td>\n",
              "      <td>Cauca</td>\n",
              "      <td>4</td>\n",
              "      <td>31</td>\n",
              "      <td>52.6</td>\n",
              "      <td>N</td>\n",
              "      <td>76</td>\n",
              "      <td>3</td>\n",
              "      <td>43.8</td>\n",
              "      <td>W</td>\n",
              "      <td>920</td>\n",
              "      <td>44.5</td>\n",
              "      <td>63.9</td>\n",
              "      <td>97.0</td>\n",
              "      <td>144.0</td>\n",
              "      <td>143.7</td>\n",
              "      <td>85.8</td>\n",
              "      <td>77.9</td>\n",
              "      <td>77.0</td>\n",
              "      <td>106.7</td>\n",
              "      <td>116.9</td>\n",
              "      <td>104.7</td>\n",
              "      <td>60.8</td>\n",
              "      <td>1123.1</td>\n",
              "      <td>24.4</td>\n",
              "      <td>24.8</td>\n",
              "      <td>24.9</td>\n",
              "      <td>24.4</td>\n",
              "      <td>24.1</td>\n",
              "      <td>24.1</td>\n",
              "      <td>24.4</td>\n",
              "      <td>24.7</td>\n",
              "      <td>24.3</td>\n",
              "      <td>23.8</td>\n",
              "      <td>23.7</td>\n",
              "      <td>24.0</td>\n",
              "      <td>24.3</td>\n",
              "    </tr>\n",
              "    <tr>\n",
              "      <th>160</th>\n",
              "      <td>26075080</td>\n",
              "      <td>Cenicana</td>\n",
              "      <td>AM</td>\n",
              "      <td>Valle del Cauca</td>\n",
              "      <td>Florida</td>\n",
              "      <td>Guachal</td>\n",
              "      <td>3</td>\n",
              "      <td>21</td>\n",
              "      <td>38.6</td>\n",
              "      <td>N</td>\n",
              "      <td>76</td>\n",
              "      <td>17</td>\n",
              "      <td>57.9</td>\n",
              "      <td>W</td>\n",
              "      <td>1013</td>\n",
              "      <td>92.1</td>\n",
              "      <td>84.0</td>\n",
              "      <td>121.8</td>\n",
              "      <td>169.0</td>\n",
              "      <td>113.7</td>\n",
              "      <td>49.3</td>\n",
              "      <td>29.5</td>\n",
              "      <td>38.1</td>\n",
              "      <td>95.4</td>\n",
              "      <td>139.3</td>\n",
              "      <td>158.7</td>\n",
              "      <td>86.0</td>\n",
              "      <td>1176.9</td>\n",
              "      <td>23.5</td>\n",
              "      <td>23.7</td>\n",
              "      <td>23.8</td>\n",
              "      <td>23.5</td>\n",
              "      <td>23.5</td>\n",
              "      <td>23.8</td>\n",
              "      <td>23.8</td>\n",
              "      <td>24.0</td>\n",
              "      <td>23.6</td>\n",
              "      <td>23.1</td>\n",
              "      <td>22.9</td>\n",
              "      <td>23.4</td>\n",
              "      <td>23.6</td>\n",
              "    </tr>\n",
              "    <tr>\n",
              "      <th>206</th>\n",
              "      <td>26075050</td>\n",
              "      <td>Ing Manuelita Porv</td>\n",
              "      <td>CO</td>\n",
              "      <td>Valle del Cauca</td>\n",
              "      <td>Palmira</td>\n",
              "      <td>Nima</td>\n",
              "      <td>3</td>\n",
              "      <td>34</td>\n",
              "      <td>26.3</td>\n",
              "      <td>N</td>\n",
              "      <td>76</td>\n",
              "      <td>16</td>\n",
              "      <td>40.2</td>\n",
              "      <td>W</td>\n",
              "      <td>1058</td>\n",
              "      <td>71.2</td>\n",
              "      <td>68.5</td>\n",
              "      <td>116.6</td>\n",
              "      <td>158.1</td>\n",
              "      <td>117.2</td>\n",
              "      <td>73.3</td>\n",
              "      <td>45.7</td>\n",
              "      <td>42.3</td>\n",
              "      <td>85.6</td>\n",
              "      <td>122.3</td>\n",
              "      <td>131.1</td>\n",
              "      <td>86.7</td>\n",
              "      <td>1118.6</td>\n",
              "      <td>23.4</td>\n",
              "      <td>23.5</td>\n",
              "      <td>23.5</td>\n",
              "      <td>23.3</td>\n",
              "      <td>23.3</td>\n",
              "      <td>23.1</td>\n",
              "      <td>23.3</td>\n",
              "      <td>23.2</td>\n",
              "      <td>22.8</td>\n",
              "      <td>22.6</td>\n",
              "      <td>22.5</td>\n",
              "      <td>22.4</td>\n",
              "      <td>23.1</td>\n",
              "    </tr>\n",
              "    <tr>\n",
              "      <th>232</th>\n",
              "      <td>26105150</td>\n",
              "      <td>San Marcos</td>\n",
              "      <td>CO</td>\n",
              "      <td>Valle del Cauca</td>\n",
              "      <td>Bugalagrande</td>\n",
              "      <td>Paila</td>\n",
              "      <td>4</td>\n",
              "      <td>14</td>\n",
              "      <td>20.3</td>\n",
              "      <td>N</td>\n",
              "      <td>76</td>\n",
              "      <td>1</td>\n",
              "      <td>59.4</td>\n",
              "      <td>W</td>\n",
              "      <td>1002</td>\n",
              "      <td>78.1</td>\n",
              "      <td>82.4</td>\n",
              "      <td>145.1</td>\n",
              "      <td>189.4</td>\n",
              "      <td>160.1</td>\n",
              "      <td>91.9</td>\n",
              "      <td>80.8</td>\n",
              "      <td>71.4</td>\n",
              "      <td>121.8</td>\n",
              "      <td>187.1</td>\n",
              "      <td>169.7</td>\n",
              "      <td>112.9</td>\n",
              "      <td>1490.8</td>\n",
              "      <td>23.3</td>\n",
              "      <td>23.4</td>\n",
              "      <td>23.4</td>\n",
              "      <td>23.3</td>\n",
              "      <td>23.2</td>\n",
              "      <td>23.3</td>\n",
              "      <td>23.3</td>\n",
              "      <td>23.6</td>\n",
              "      <td>23.5</td>\n",
              "      <td>23.0</td>\n",
              "      <td>22.9</td>\n",
              "      <td>23.1</td>\n",
              "      <td>23.3</td>\n",
              "    </tr>\n",
              "    <tr>\n",
              "      <th>264</th>\n",
              "      <td>26085130</td>\n",
              "      <td>Buitrera La</td>\n",
              "      <td>CO</td>\n",
              "      <td>Valle del Cauca</td>\n",
              "      <td>Yumbo</td>\n",
              "      <td>YUMBO</td>\n",
              "      <td>3</td>\n",
              "      <td>35</td>\n",
              "      <td>0.0</td>\n",
              "      <td>N</td>\n",
              "      <td>76</td>\n",
              "      <td>34</td>\n",
              "      <td>0.0</td>\n",
              "      <td>W</td>\n",
              "      <td>1500</td>\n",
              "      <td>64.8</td>\n",
              "      <td>59.5</td>\n",
              "      <td>106.7</td>\n",
              "      <td>143.2</td>\n",
              "      <td>119.5</td>\n",
              "      <td>69.9</td>\n",
              "      <td>44.8</td>\n",
              "      <td>40.8</td>\n",
              "      <td>71.7</td>\n",
              "      <td>124.8</td>\n",
              "      <td>122.3</td>\n",
              "      <td>79.3</td>\n",
              "      <td>1047.4</td>\n",
              "      <td>20.6</td>\n",
              "      <td>20.9</td>\n",
              "      <td>20.9</td>\n",
              "      <td>20.7</td>\n",
              "      <td>20.6</td>\n",
              "      <td>20.7</td>\n",
              "      <td>21.1</td>\n",
              "      <td>21.2</td>\n",
              "      <td>20.9</td>\n",
              "      <td>20.5</td>\n",
              "      <td>20.0</td>\n",
              "      <td>20.2</td>\n",
              "      <td>20.7</td>\n",
              "    </tr>\n",
              "    <tr>\n",
              "      <th>266</th>\n",
              "      <td>26085120</td>\n",
              "      <td>Base Aerea MFS</td>\n",
              "      <td>SS</td>\n",
              "      <td>Valle del Cauca</td>\n",
              "      <td>Cali</td>\n",
              "      <td>Cauca</td>\n",
              "      <td>3</td>\n",
              "      <td>27</td>\n",
              "      <td>26.3</td>\n",
              "      <td>N</td>\n",
              "      <td>76</td>\n",
              "      <td>30</td>\n",
              "      <td>11.6</td>\n",
              "      <td>W</td>\n",
              "      <td>954</td>\n",
              "      <td>74.8</td>\n",
              "      <td>61.2</td>\n",
              "      <td>94.2</td>\n",
              "      <td>139.8</td>\n",
              "      <td>132.9</td>\n",
              "      <td>66.7</td>\n",
              "      <td>47.7</td>\n",
              "      <td>40.3</td>\n",
              "      <td>69.9</td>\n",
              "      <td>119.9</td>\n",
              "      <td>117.9</td>\n",
              "      <td>83.6</td>\n",
              "      <td>1048.8</td>\n",
              "      <td>25.3</td>\n",
              "      <td>25.4</td>\n",
              "      <td>25.4</td>\n",
              "      <td>25.0</td>\n",
              "      <td>25.2</td>\n",
              "      <td>25.1</td>\n",
              "      <td>25.4</td>\n",
              "      <td>25.8</td>\n",
              "      <td>25.5</td>\n",
              "      <td>24.8</td>\n",
              "      <td>24.6</td>\n",
              "      <td>24.6</td>\n",
              "      <td>25.2</td>\n",
              "    </tr>\n",
              "    <tr>\n",
              "      <th>276</th>\n",
              "      <td>26055070</td>\n",
              "      <td>Univ del Valle</td>\n",
              "      <td>CP</td>\n",
              "      <td>Valle del Cauca</td>\n",
              "      <td>Cali</td>\n",
              "      <td>Melendez</td>\n",
              "      <td>3</td>\n",
              "      <td>22</td>\n",
              "      <td>40.8</td>\n",
              "      <td>N</td>\n",
              "      <td>76</td>\n",
              "      <td>32</td>\n",
              "      <td>1.6</td>\n",
              "      <td>W</td>\n",
              "      <td>985</td>\n",
              "      <td>102.7</td>\n",
              "      <td>109.5</td>\n",
              "      <td>149.6</td>\n",
              "      <td>191.3</td>\n",
              "      <td>162.7</td>\n",
              "      <td>89.4</td>\n",
              "      <td>63.0</td>\n",
              "      <td>51.0</td>\n",
              "      <td>103.0</td>\n",
              "      <td>160.7</td>\n",
              "      <td>170.2</td>\n",
              "      <td>130.3</td>\n",
              "      <td>1483.4</td>\n",
              "      <td>24.5</td>\n",
              "      <td>24.7</td>\n",
              "      <td>24.7</td>\n",
              "      <td>24.4</td>\n",
              "      <td>24.4</td>\n",
              "      <td>24.4</td>\n",
              "      <td>24.7</td>\n",
              "      <td>25.1</td>\n",
              "      <td>24.8</td>\n",
              "      <td>24.1</td>\n",
              "      <td>23.8</td>\n",
              "      <td>24.1</td>\n",
              "      <td>24.5</td>\n",
              "    </tr>\n",
              "    <tr>\n",
              "      <th>284</th>\n",
              "      <td>26075010</td>\n",
              "      <td>Palmira Ica</td>\n",
              "      <td>AM</td>\n",
              "      <td>Valle del Cauca</td>\n",
              "      <td>Palmira</td>\n",
              "      <td>Palmira</td>\n",
              "      <td>3</td>\n",
              "      <td>30</td>\n",
              "      <td>48.2</td>\n",
              "      <td>N</td>\n",
              "      <td>76</td>\n",
              "      <td>18</td>\n",
              "      <td>54.1</td>\n",
              "      <td>W</td>\n",
              "      <td>1050</td>\n",
              "      <td>59.0</td>\n",
              "      <td>74.8</td>\n",
              "      <td>114.0</td>\n",
              "      <td>159.0</td>\n",
              "      <td>110.1</td>\n",
              "      <td>59.8</td>\n",
              "      <td>35.2</td>\n",
              "      <td>39.2</td>\n",
              "      <td>82.1</td>\n",
              "      <td>113.2</td>\n",
              "      <td>133.1</td>\n",
              "      <td>88.2</td>\n",
              "      <td>1067.6</td>\n",
              "      <td>23.6</td>\n",
              "      <td>23.9</td>\n",
              "      <td>23.9</td>\n",
              "      <td>23.6</td>\n",
              "      <td>23.6</td>\n",
              "      <td>23.4</td>\n",
              "      <td>23.8</td>\n",
              "      <td>24.0</td>\n",
              "      <td>23.8</td>\n",
              "      <td>23.3</td>\n",
              "      <td>23.1</td>\n",
              "      <td>23.3</td>\n",
              "      <td>23.6</td>\n",
              "    </tr>\n",
              "    <tr>\n",
              "      <th>304</th>\n",
              "      <td>26105230</td>\n",
              "      <td>Mateguadua</td>\n",
              "      <td>CO</td>\n",
              "      <td>Valle del Cauca</td>\n",
              "      <td>Tulua</td>\n",
              "      <td>Tulua</td>\n",
              "      <td>4</td>\n",
              "      <td>1</td>\n",
              "      <td>43.3</td>\n",
              "      <td>N</td>\n",
              "      <td>76</td>\n",
              "      <td>10</td>\n",
              "      <td>5.0</td>\n",
              "      <td>W</td>\n",
              "      <td>1025</td>\n",
              "      <td>94.5</td>\n",
              "      <td>93.7</td>\n",
              "      <td>148.0</td>\n",
              "      <td>160.8</td>\n",
              "      <td>112.3</td>\n",
              "      <td>64.6</td>\n",
              "      <td>47.3</td>\n",
              "      <td>56.9</td>\n",
              "      <td>127.4</td>\n",
              "      <td>163.1</td>\n",
              "      <td>145.1</td>\n",
              "      <td>101.0</td>\n",
              "      <td>1297.1</td>\n",
              "      <td>22.6</td>\n",
              "      <td>22.8</td>\n",
              "      <td>22.7</td>\n",
              "      <td>22.6</td>\n",
              "      <td>22.5</td>\n",
              "      <td>22.6</td>\n",
              "      <td>22.7</td>\n",
              "      <td>23.1</td>\n",
              "      <td>22.7</td>\n",
              "      <td>22.3</td>\n",
              "      <td>22.2</td>\n",
              "      <td>22.3</td>\n",
              "      <td>22.6</td>\n",
              "    </tr>\n",
              "    <tr>\n",
              "      <th>353</th>\n",
              "      <td>54075020</td>\n",
              "      <td>Bajo Calima</td>\n",
              "      <td>CO</td>\n",
              "      <td>Valle del Cauca</td>\n",
              "      <td>Buenaventura</td>\n",
              "      <td>Calima</td>\n",
              "      <td>3</td>\n",
              "      <td>57</td>\n",
              "      <td>13.0</td>\n",
              "      <td>N</td>\n",
              "      <td>76</td>\n",
              "      <td>59</td>\n",
              "      <td>24.9</td>\n",
              "      <td>W</td>\n",
              "      <td>50</td>\n",
              "      <td>437.4</td>\n",
              "      <td>341.3</td>\n",
              "      <td>453.4</td>\n",
              "      <td>616.9</td>\n",
              "      <td>727.1</td>\n",
              "      <td>560.3</td>\n",
              "      <td>659.4</td>\n",
              "      <td>705.7</td>\n",
              "      <td>782.5</td>\n",
              "      <td>791.2</td>\n",
              "      <td>729.8</td>\n",
              "      <td>634.6</td>\n",
              "      <td>7439.6</td>\n",
              "      <td>25.7</td>\n",
              "      <td>26.0</td>\n",
              "      <td>26.1</td>\n",
              "      <td>26.1</td>\n",
              "      <td>26.1</td>\n",
              "      <td>25.8</td>\n",
              "      <td>25.8</td>\n",
              "      <td>25.7</td>\n",
              "      <td>25.5</td>\n",
              "      <td>25.4</td>\n",
              "      <td>25.5</td>\n",
              "      <td>25.6</td>\n",
              "      <td>25.8</td>\n",
              "    </tr>\n",
              "    <tr>\n",
              "      <th>358</th>\n",
              "      <td>26105160</td>\n",
              "      <td>Apto Farfan</td>\n",
              "      <td>SP</td>\n",
              "      <td>Valle del Cauca</td>\n",
              "      <td>Tulua</td>\n",
              "      <td>Tulua</td>\n",
              "      <td>4</td>\n",
              "      <td>5</td>\n",
              "      <td>25.4</td>\n",
              "      <td>N</td>\n",
              "      <td>76</td>\n",
              "      <td>13</td>\n",
              "      <td>23.2</td>\n",
              "      <td>W</td>\n",
              "      <td>955</td>\n",
              "      <td>80.7</td>\n",
              "      <td>85.9</td>\n",
              "      <td>146.7</td>\n",
              "      <td>156.1</td>\n",
              "      <td>135.3</td>\n",
              "      <td>82.8</td>\n",
              "      <td>61.9</td>\n",
              "      <td>60.3</td>\n",
              "      <td>108.5</td>\n",
              "      <td>156.1</td>\n",
              "      <td>140.6</td>\n",
              "      <td>87.3</td>\n",
              "      <td>1302.1</td>\n",
              "      <td>24.1</td>\n",
              "      <td>24.3</td>\n",
              "      <td>24.3</td>\n",
              "      <td>23.9</td>\n",
              "      <td>23.8</td>\n",
              "      <td>23.7</td>\n",
              "      <td>24.1</td>\n",
              "      <td>24.2</td>\n",
              "      <td>24.0</td>\n",
              "      <td>23.4</td>\n",
              "      <td>23.1</td>\n",
              "      <td>23.5</td>\n",
              "      <td>23.9</td>\n",
              "    </tr>\n",
              "    <tr>\n",
              "      <th>436</th>\n",
              "      <td>26075040</td>\n",
              "      <td>Apto A Bonilla</td>\n",
              "      <td>SP</td>\n",
              "      <td>Valle del Cauca</td>\n",
              "      <td>Palmira</td>\n",
              "      <td>Guachal</td>\n",
              "      <td>3</td>\n",
              "      <td>32</td>\n",
              "      <td>0.0</td>\n",
              "      <td>N</td>\n",
              "      <td>76</td>\n",
              "      <td>23</td>\n",
              "      <td>8.1</td>\n",
              "      <td>W</td>\n",
              "      <td>961</td>\n",
              "      <td>51.3</td>\n",
              "      <td>56.0</td>\n",
              "      <td>92.0</td>\n",
              "      <td>129.3</td>\n",
              "      <td>96.5</td>\n",
              "      <td>55.1</td>\n",
              "      <td>31.7</td>\n",
              "      <td>35.3</td>\n",
              "      <td>70.1</td>\n",
              "      <td>101.8</td>\n",
              "      <td>101.2</td>\n",
              "      <td>67.9</td>\n",
              "      <td>888.2</td>\n",
              "      <td>24.0</td>\n",
              "      <td>24.2</td>\n",
              "      <td>24.2</td>\n",
              "      <td>23.9</td>\n",
              "      <td>23.9</td>\n",
              "      <td>23.9</td>\n",
              "      <td>24.1</td>\n",
              "      <td>24.3</td>\n",
              "      <td>24.1</td>\n",
              "      <td>23.5</td>\n",
              "      <td>23.4</td>\n",
              "      <td>23.6</td>\n",
              "      <td>23.9</td>\n",
              "    </tr>\n",
              "  </tbody>\n",
              "</table>\n",
              "</div>"
            ],
            "text/plain": [
              "       codigo              nombre categoria  ... novtemp30a dictemp30a protemp30a\n",
              "35   54035020   Argelia El Recreo        CO  ...       20.3       20.4       20.4\n",
              "41   53115030     Julio Fernandez        CO  ...       19.7       19.8       20.0\n",
              "46   54075040           Mision La        CO  ...       25.2       25.3       25.7\n",
              "84   26125130            Cumbarco        CO  ...       18.4       18.6       18.9\n",
              "95   26095230          Vinculo El        AM  ...       23.1       23.3       23.6\n",
              "107  26105110        Ing Riopaila        CO  ...       24.0       24.0       24.3\n",
              "111  26095080            Tenerife        CO  ...       13.3       13.3       13.6\n",
              "125  26105140            Barragan        CO  ...       11.3       11.5       11.7\n",
              "147  53115020          Colpuertos        CP  ...       25.9       26.1       26.3\n",
              "150  53115010   Apto Buenaventura        SP  ...       25.6       25.7       26.0\n",
              "156  26115040  Cent Admo La Union        CP  ...       23.7       24.0       24.3\n",
              "160  26075080            Cenicana        AM  ...       22.9       23.4       23.6\n",
              "206  26075050  Ing Manuelita Porv        CO  ...       22.5       22.4       23.1\n",
              "232  26105150          San Marcos        CO  ...       22.9       23.1       23.3\n",
              "264  26085130         Buitrera La        CO  ...       20.0       20.2       20.7\n",
              "266  26085120      Base Aerea MFS        SS  ...       24.6       24.6       25.2\n",
              "276  26055070      Univ del Valle        CP  ...       23.8       24.1       24.5\n",
              "284  26075010         Palmira Ica        AM  ...       23.1       23.3       23.6\n",
              "304  26105230          Mateguadua        CO  ...       22.2       22.3       22.6\n",
              "353  54075020         Bajo Calima        CO  ...       25.5       25.6       25.8\n",
              "358  26105160         Apto Farfan        SP  ...       23.1       23.5       23.9\n",
              "436  26075040      Apto A Bonilla        SP  ...       23.4       23.6       23.9\n",
              "\n",
              "[22 rows x 41 columns]"
            ]
          },
          "metadata": {
            "tags": []
          },
          "execution_count": 55
        }
      ]
    },
    {
      "cell_type": "markdown",
      "metadata": {
        "colab_type": "text",
        "id": "eLax3tmLWDwV"
      },
      "source": [
        "## Base de datos desastres naturales 1999-2013\n"
      ]
    },
    {
      "cell_type": "code",
      "metadata": {
        "colab_type": "code",
        "id": "HfUfUIr3WDwm",
        "colab": {
          "base_uri": "https://localhost:8080/",
          "height": 34
        },
        "outputId": "d152d340-7cd3-4010-ebd3-9274fc3d69db"
      },
      "source": [
        "\n",
        "\n",
        "client = Socrata(\"www.datos.gov.co\", None)\n",
        "results = client.get(\"dzam-ffve\", limit=5000)\n",
        "dataAll = pd.DataFrame.from_records(results)"
      ],
      "execution_count": null,
      "outputs": [
        {
          "output_type": "stream",
          "text": [
            "WARNING:root:Requests made without an app_token will be subject to strict throttling limits.\n"
          ],
          "name": "stderr"
        }
      ]
    },
    {
      "cell_type": "code",
      "metadata": {
        "colab_type": "code",
        "id": "SFK07yFTrg7R",
        "colab": {
          "base_uri": "https://localhost:8080/",
          "height": 642
        },
        "outputId": "7d2667e1-bb7e-4ba0-d5e5-e0e5915c21b8"
      },
      "source": [
        "dataAll.info()"
      ],
      "execution_count": null,
      "outputs": [
        {
          "output_type": "stream",
          "text": [
            "<class 'pandas.core.frame.DataFrame'>\n",
            "RangeIndex: 5000 entries, 0 to 4999\n",
            "Data columns (total 29 columns):\n",
            " #   Column              Non-Null Count  Dtype \n",
            "---  ------              --------------  ----- \n",
            " 0   fecha               5000 non-null   object\n",
            " 1   departamento        5000 non-null   object\n",
            " 2   municipio           5000 non-null   object\n",
            " 3   evento              5000 non-null   object\n",
            " 4   desapa              38 non-null     object\n",
            " 5   subsidiodearriendo  3427 non-null   object\n",
            " 6   menajes             5000 non-null   object\n",
            " 7   apaliment           5000 non-null   object\n",
            " 8   materialesconst     5000 non-null   object\n",
            " 9   sacos               5000 non-null   object\n",
            " 10  transeconomicas     5000 non-null   object\n",
            " 11  recejecutados       5000 non-null   object\n",
            " 12  personas            2045 non-null   object\n",
            " 13  familias            1939 non-null   object\n",
            " 14  viviendasaver       1639 non-null   object\n",
            " 15  heridos             271 non-null    object\n",
            " 16  otros               136 non-null    object\n",
            " 17  hectareas           1495 non-null   object\n",
            " 18  muertos             228 non-null    object\n",
            " 19  vias                264 non-null    object\n",
            " 20  viviendasdestru     450 non-null    object\n",
            " 21  ceducat             229 non-null    object\n",
            " 22  ccomunit            88 non-null     object\n",
            " 23  ptepeat             51 non-null     object\n",
            " 24  alcant              27 non-null     object\n",
            " 25  csalud              48 non-null     object\n",
            " 26  ptesvehic           47 non-null     object\n",
            " 27  acued               91 non-null     object\n",
            " 28  otros1              138 non-null    object\n",
            "dtypes: object(29)\n",
            "memory usage: 1.1+ MB\n"
          ],
          "name": "stdout"
        }
      ]
    },
    {
      "cell_type": "markdown",
      "metadata": {
        "colab_type": "text",
        "id": "UfWsxScnWDw8"
      },
      "source": [
        "**Observar datos faltantes** "
      ]
    },
    {
      "cell_type": "code",
      "metadata": {
        "colab_type": "code",
        "id": "SzsD-qaJWDw_",
        "colab": {
          "base_uri": "https://localhost:8080/",
          "height": 361
        },
        "outputId": "e0aafe82-e40c-4aba-ffcc-9d13a762ea1e"
      },
      "source": [
        "cols = dataAll.columns\n",
        "colours = ['#000099', '#ffff00'] # specify the colours - yellow is missing. blue is not missing.\n",
        "sns.heatmap(dataAll[cols].isnull(), cmap=sns.color_palette(colours))"
      ],
      "execution_count": null,
      "outputs": [
        {
          "output_type": "execute_result",
          "data": {
            "text/plain": [
              "<matplotlib.axes._subplots.AxesSubplot at 0x7f3b20a887f0>"
            ]
          },
          "metadata": {
            "tags": []
          },
          "execution_count": 63
        },
        {
          "output_type": "display_data",
          "data": {
            "image/png": "[encoded data removed]",
            "text/plain": [
              "<Figure size 432x288 with 2 Axes>"
            ]
          },
          "metadata": {
            "tags": [],
            "needs_background": "light"
          }
        }
      ]
    },
    {
      "cell_type": "code",
      "metadata": {
        "colab_type": "code",
        "id": "SRmHjCU-WDxL",
        "colab": {
          "base_uri": "https://localhost:8080/",
          "height": 503
        },
        "outputId": "aa532b1e-5ae5-4764-9f30-2ae68d3bf189"
      },
      "source": [
        "for col in dataAll.columns:\n",
        "    pct_missing = np.mean(dataAll[col].isnull())\n",
        "    print('{} - {}%'.format(col, round(pct_missing*100)))"
      ],
      "execution_count": null,
      "outputs": [
        {
          "output_type": "stream",
          "text": [
            "fecha - 0.0%\n",
            "departamento - 0.0%\n",
            "municipio - 0.0%\n",
            "evento - 0.0%\n",
            "heridos - 94.0%\n",
            "personas - 57.0%\n",
            "otros - 97.0%\n",
            "subsidiodearriendo - 0.0%\n",
            "menajes - 0.0%\n",
            "apaliment - 0.0%\n",
            "materialesconst - 0.0%\n",
            "sacos - 0.0%\n",
            "transeconomicas - 0.0%\n",
            "recejecutados - 0.0%\n",
            "desapa - 99.0%\n",
            "familias - 61.0%\n",
            "viviendasaver - 66.0%\n",
            "vias - 96.0%\n",
            "muertos - 95.0%\n",
            "hectareas - 68.0%\n",
            "viviendasdestru - 91.0%\n",
            "ceducat - 96.0%\n",
            "ccomunit - 98.0%\n",
            "ptepeat - 98.0%\n",
            "alcant - 99.0%\n",
            "csalud - 99.0%\n",
            "ptesvehic - 100.0%\n",
            "acued - 99.0%\n"
          ],
          "name": "stdout"
        }
      ]
    },
    {
      "cell_type": "markdown",
      "metadata": {
        "colab_type": "text",
        "id": "c9YYETimWDxT"
      },
      "source": [
        "**Filtrar datos solo para cali**"
      ]
    },
    {
      "cell_type": "code",
      "metadata": {
        "colab_type": "code",
        "id": "R1GuTCxPWDxW",
        "colab": {
          "base_uri": "https://localhost:8080/",
          "height": 525
        },
        "outputId": "0eb40f24-0d1c-460d-869d-1c9a943ee33c"
      },
      "source": [
        "print(len(dataAll))\n",
        "#filtrar datos solo para cali\n",
        "dataInundCali=dataAll[dataAll['municipio']==\"CALI\"]\n",
        "dataInundCali.head(9)\n",
        "#print(dataInundCali)"
      ],
      "execution_count": null,
      "outputs": [
        {
          "output_type": "stream",
          "text": [
            "1000\n"
          ],
          "name": "stdout"
        },
        {
          "output_type": "execute_result",
          "data": {
            "text/html": [
              "<div>\n",
              "<style scoped>\n",
              "    .dataframe tbody tr th:only-of-type {\n",
              "        vertical-align: middle;\n",
              "    }\n",
              "\n",
              "    .dataframe tbody tr th {\n",
              "        vertical-align: top;\n",
              "    }\n",
              "\n",
              "    .dataframe thead th {\n",
              "        text-align: right;\n",
              "    }\n",
              "</style>\n",
              "<table border=\"1\" class=\"dataframe\">\n",
              "  <thead>\n",
              "    <tr style=\"text-align: right;\">\n",
              "      <th></th>\n",
              "      <th>fecha</th>\n",
              "      <th>departamento</th>\n",
              "      <th>municipio</th>\n",
              "      <th>evento</th>\n",
              "      <th>heridos</th>\n",
              "      <th>personas</th>\n",
              "      <th>otros</th>\n",
              "      <th>subsidiodearriendo</th>\n",
              "      <th>menajes</th>\n",
              "      <th>apaliment</th>\n",
              "      <th>materialesconst</th>\n",
              "      <th>sacos</th>\n",
              "      <th>transeconomicas</th>\n",
              "      <th>recejecutados</th>\n",
              "      <th>desapa</th>\n",
              "      <th>familias</th>\n",
              "      <th>viviendasaver</th>\n",
              "      <th>vias</th>\n",
              "      <th>muertos</th>\n",
              "      <th>hectareas</th>\n",
              "      <th>viviendasdestru</th>\n",
              "      <th>ceducat</th>\n",
              "      <th>ccomunit</th>\n",
              "      <th>ptepeat</th>\n",
              "      <th>alcant</th>\n",
              "      <th>csalud</th>\n",
              "      <th>ptesvehic</th>\n",
              "      <th>acued</th>\n",
              "    </tr>\n",
              "  </thead>\n",
              "  <tbody>\n",
              "    <tr>\n",
              "      <th>131</th>\n",
              "      <td>2013-10-05T00:00:00.000</td>\n",
              "      <td>VALLE DEL CAUCA</td>\n",
              "      <td>CALI</td>\n",
              "      <td>INCENDIO ESTRUCTURAL</td>\n",
              "      <td>NaN</td>\n",
              "      <td>NaN</td>\n",
              "      <td>6</td>\n",
              "      <td>0</td>\n",
              "      <td>0</td>\n",
              "      <td>0</td>\n",
              "      <td>0</td>\n",
              "      <td>0</td>\n",
              "      <td>0</td>\n",
              "      <td>0</td>\n",
              "      <td>NaN</td>\n",
              "      <td>NaN</td>\n",
              "      <td>NaN</td>\n",
              "      <td>NaN</td>\n",
              "      <td>NaN</td>\n",
              "      <td>NaN</td>\n",
              "      <td>NaN</td>\n",
              "      <td>NaN</td>\n",
              "      <td>NaN</td>\n",
              "      <td>NaN</td>\n",
              "      <td>NaN</td>\n",
              "      <td>NaN</td>\n",
              "      <td>NaN</td>\n",
              "      <td>NaN</td>\n",
              "    </tr>\n",
              "    <tr>\n",
              "      <th>150</th>\n",
              "      <td>2013-10-03T00:00:00.000</td>\n",
              "      <td>VALLE DEL CAUCA</td>\n",
              "      <td>CALI</td>\n",
              "      <td>DESLIZAMIENTO</td>\n",
              "      <td>NaN</td>\n",
              "      <td>NaN</td>\n",
              "      <td>NaN</td>\n",
              "      <td>0</td>\n",
              "      <td>0</td>\n",
              "      <td>0</td>\n",
              "      <td>0</td>\n",
              "      <td>0</td>\n",
              "      <td>0</td>\n",
              "      <td>0</td>\n",
              "      <td>NaN</td>\n",
              "      <td>NaN</td>\n",
              "      <td>NaN</td>\n",
              "      <td>1</td>\n",
              "      <td>NaN</td>\n",
              "      <td>NaN</td>\n",
              "      <td>NaN</td>\n",
              "      <td>NaN</td>\n",
              "      <td>NaN</td>\n",
              "      <td>NaN</td>\n",
              "      <td>NaN</td>\n",
              "      <td>NaN</td>\n",
              "      <td>NaN</td>\n",
              "      <td>NaN</td>\n",
              "    </tr>\n",
              "    <tr>\n",
              "      <th>265</th>\n",
              "      <td>2013-09-24T00:00:00.000</td>\n",
              "      <td>VALLE DEL CAUCA</td>\n",
              "      <td>CALI</td>\n",
              "      <td>INCENDIO FORESTAL</td>\n",
              "      <td>NaN</td>\n",
              "      <td>NaN</td>\n",
              "      <td>NaN</td>\n",
              "      <td>0</td>\n",
              "      <td>0</td>\n",
              "      <td>0</td>\n",
              "      <td>0</td>\n",
              "      <td>0</td>\n",
              "      <td>0</td>\n",
              "      <td>0</td>\n",
              "      <td>NaN</td>\n",
              "      <td>NaN</td>\n",
              "      <td>NaN</td>\n",
              "      <td>NaN</td>\n",
              "      <td>NaN</td>\n",
              "      <td>5</td>\n",
              "      <td>NaN</td>\n",
              "      <td>NaN</td>\n",
              "      <td>NaN</td>\n",
              "      <td>NaN</td>\n",
              "      <td>NaN</td>\n",
              "      <td>NaN</td>\n",
              "      <td>NaN</td>\n",
              "      <td>NaN</td>\n",
              "    </tr>\n",
              "    <tr>\n",
              "      <th>391</th>\n",
              "      <td>2013-09-16T00:00:00.000</td>\n",
              "      <td>VALLE DEL CAUCA</td>\n",
              "      <td>CALI</td>\n",
              "      <td>INUNDACION</td>\n",
              "      <td>1</td>\n",
              "      <td>75</td>\n",
              "      <td>NaN</td>\n",
              "      <td>0</td>\n",
              "      <td>0</td>\n",
              "      <td>0</td>\n",
              "      <td>0</td>\n",
              "      <td>0</td>\n",
              "      <td>0</td>\n",
              "      <td>0</td>\n",
              "      <td>NaN</td>\n",
              "      <td>15</td>\n",
              "      <td>15</td>\n",
              "      <td>NaN</td>\n",
              "      <td>NaN</td>\n",
              "      <td>NaN</td>\n",
              "      <td>NaN</td>\n",
              "      <td>NaN</td>\n",
              "      <td>NaN</td>\n",
              "      <td>NaN</td>\n",
              "      <td>NaN</td>\n",
              "      <td>NaN</td>\n",
              "      <td>NaN</td>\n",
              "      <td>NaN</td>\n",
              "    </tr>\n",
              "    <tr>\n",
              "      <th>561</th>\n",
              "      <td>2013-08-30T00:00:00.000</td>\n",
              "      <td>VALLE DEL CAUCA</td>\n",
              "      <td>CALI</td>\n",
              "      <td>INCENDIO FORESTAL</td>\n",
              "      <td>NaN</td>\n",
              "      <td>NaN</td>\n",
              "      <td>NaN</td>\n",
              "      <td>0</td>\n",
              "      <td>0</td>\n",
              "      <td>0</td>\n",
              "      <td>0</td>\n",
              "      <td>0</td>\n",
              "      <td>0</td>\n",
              "      <td>0</td>\n",
              "      <td>NaN</td>\n",
              "      <td>NaN</td>\n",
              "      <td>NaN</td>\n",
              "      <td>NaN</td>\n",
              "      <td>NaN</td>\n",
              "      <td>30</td>\n",
              "      <td>NaN</td>\n",
              "      <td>NaN</td>\n",
              "      <td>NaN</td>\n",
              "      <td>NaN</td>\n",
              "      <td>NaN</td>\n",
              "      <td>NaN</td>\n",
              "      <td>NaN</td>\n",
              "      <td>NaN</td>\n",
              "    </tr>\n",
              "    <tr>\n",
              "      <th>609</th>\n",
              "      <td>2013-08-26T00:00:00.000</td>\n",
              "      <td>VALLE DEL CAUCA</td>\n",
              "      <td>CALI</td>\n",
              "      <td>INCENDIO FORESTAL</td>\n",
              "      <td>NaN</td>\n",
              "      <td>NaN</td>\n",
              "      <td>NaN</td>\n",
              "      <td>0</td>\n",
              "      <td>0</td>\n",
              "      <td>0</td>\n",
              "      <td>0</td>\n",
              "      <td>0</td>\n",
              "      <td>0</td>\n",
              "      <td>0</td>\n",
              "      <td>NaN</td>\n",
              "      <td>NaN</td>\n",
              "      <td>NaN</td>\n",
              "      <td>NaN</td>\n",
              "      <td>NaN</td>\n",
              "      <td>NaN</td>\n",
              "      <td>NaN</td>\n",
              "      <td>NaN</td>\n",
              "      <td>NaN</td>\n",
              "      <td>NaN</td>\n",
              "      <td>NaN</td>\n",
              "      <td>NaN</td>\n",
              "      <td>NaN</td>\n",
              "      <td>NaN</td>\n",
              "    </tr>\n",
              "    <tr>\n",
              "      <th>625</th>\n",
              "      <td>2013-08-25T00:00:00.000</td>\n",
              "      <td>VALLE DEL CAUCA</td>\n",
              "      <td>CALI</td>\n",
              "      <td>INCENDIO FORESTAL</td>\n",
              "      <td>NaN</td>\n",
              "      <td>NaN</td>\n",
              "      <td>NaN</td>\n",
              "      <td>0</td>\n",
              "      <td>0</td>\n",
              "      <td>0</td>\n",
              "      <td>0</td>\n",
              "      <td>0</td>\n",
              "      <td>0</td>\n",
              "      <td>0</td>\n",
              "      <td>NaN</td>\n",
              "      <td>NaN</td>\n",
              "      <td>NaN</td>\n",
              "      <td>NaN</td>\n",
              "      <td>NaN</td>\n",
              "      <td>50</td>\n",
              "      <td>NaN</td>\n",
              "      <td>NaN</td>\n",
              "      <td>NaN</td>\n",
              "      <td>NaN</td>\n",
              "      <td>NaN</td>\n",
              "      <td>NaN</td>\n",
              "      <td>NaN</td>\n",
              "      <td>NaN</td>\n",
              "    </tr>\n",
              "    <tr>\n",
              "      <th>670</th>\n",
              "      <td>2013-08-19T00:00:00.000</td>\n",
              "      <td>VALLE DEL CAUCA</td>\n",
              "      <td>CALI</td>\n",
              "      <td>INCENDIO FORESTAL</td>\n",
              "      <td>NaN</td>\n",
              "      <td>NaN</td>\n",
              "      <td>NaN</td>\n",
              "      <td>0</td>\n",
              "      <td>0</td>\n",
              "      <td>0</td>\n",
              "      <td>0</td>\n",
              "      <td>0</td>\n",
              "      <td>0</td>\n",
              "      <td>0</td>\n",
              "      <td>NaN</td>\n",
              "      <td>NaN</td>\n",
              "      <td>NaN</td>\n",
              "      <td>NaN</td>\n",
              "      <td>NaN</td>\n",
              "      <td>NaN</td>\n",
              "      <td>NaN</td>\n",
              "      <td>NaN</td>\n",
              "      <td>NaN</td>\n",
              "      <td>NaN</td>\n",
              "      <td>NaN</td>\n",
              "      <td>NaN</td>\n",
              "      <td>NaN</td>\n",
              "      <td>NaN</td>\n",
              "    </tr>\n",
              "    <tr>\n",
              "      <th>821</th>\n",
              "      <td>2013-08-03T00:00:00.000</td>\n",
              "      <td>VALLE DEL CAUCA</td>\n",
              "      <td>CALI</td>\n",
              "      <td>INCENDIO FORESTAL</td>\n",
              "      <td>NaN</td>\n",
              "      <td>NaN</td>\n",
              "      <td>NaN</td>\n",
              "      <td>0</td>\n",
              "      <td>0</td>\n",
              "      <td>0</td>\n",
              "      <td>0</td>\n",
              "      <td>0</td>\n",
              "      <td>0</td>\n",
              "      <td>0</td>\n",
              "      <td>NaN</td>\n",
              "      <td>NaN</td>\n",
              "      <td>NaN</td>\n",
              "      <td>NaN</td>\n",
              "      <td>NaN</td>\n",
              "      <td>12</td>\n",
              "      <td>NaN</td>\n",
              "      <td>NaN</td>\n",
              "      <td>NaN</td>\n",
              "      <td>NaN</td>\n",
              "      <td>NaN</td>\n",
              "      <td>NaN</td>\n",
              "      <td>NaN</td>\n",
              "      <td>NaN</td>\n",
              "    </tr>\n",
              "  </tbody>\n",
              "</table>\n",
              "</div>"
            ],
            "text/plain": [
              "                       fecha     departamento municipio  ... csalud ptesvehic acued\n",
              "131  2013-10-05T00:00:00.000  VALLE DEL CAUCA      CALI  ...    NaN       NaN   NaN\n",
              "150  2013-10-03T00:00:00.000  VALLE DEL CAUCA      CALI  ...    NaN       NaN   NaN\n",
              "265  2013-09-24T00:00:00.000  VALLE DEL CAUCA      CALI  ...    NaN       NaN   NaN\n",
              "391  2013-09-16T00:00:00.000  VALLE DEL CAUCA      CALI  ...    NaN       NaN   NaN\n",
              "561  2013-08-30T00:00:00.000  VALLE DEL CAUCA      CALI  ...    NaN       NaN   NaN\n",
              "609  2013-08-26T00:00:00.000  VALLE DEL CAUCA      CALI  ...    NaN       NaN   NaN\n",
              "625  2013-08-25T00:00:00.000  VALLE DEL CAUCA      CALI  ...    NaN       NaN   NaN\n",
              "670  2013-08-19T00:00:00.000  VALLE DEL CAUCA      CALI  ...    NaN       NaN   NaN\n",
              "821  2013-08-03T00:00:00.000  VALLE DEL CAUCA      CALI  ...    NaN       NaN   NaN\n",
              "\n",
              "[9 rows x 28 columns]"
            ]
          },
          "metadata": {
            "tags": []
          },
          "execution_count": 61
        }
      ]
    },
    {
      "cell_type": "markdown",
      "metadata": {
        "colab_type": "text",
        "id": "AzGDK7JMbYlz"
      },
      "source": [
        "## Base de datos Humedad del Aire 2 metros\n"
      ]
    },
    {
      "cell_type": "code",
      "metadata": {
        "colab_type": "code",
        "id": "hekz-aFMbYmF",
        "colab": {
          "base_uri": "https://localhost:8080/",
          "height": 34
        },
        "outputId": "b8a55ed6-3cbb-49ba-eeca-9c203a15cc1f"
      },
      "source": [
        "\n",
        "\n",
        "client = Socrata(\"www.datos.gov.co\", None)\n",
        "results = client.get(\"uext-mhny\", limit=1000)\n",
        "dataAll = pd.DataFrame.from_records(results)"
      ],
      "execution_count": null,
      "outputs": [
        {
          "output_type": "stream",
          "text": [
            "WARNING:root:Requests made without an app_token will be subject to strict throttling limits.\n"
          ],
          "name": "stderr"
        }
      ]
    },
    {
      "cell_type": "markdown",
      "metadata": {
        "colab_type": "text",
        "id": "9xaoNav_bYma"
      },
      "source": [
        "**Observar datos faltantes** "
      ]
    },
    {
      "cell_type": "code",
      "metadata": {
        "colab_type": "code",
        "id": "yxbHfZQMbYmd",
        "colab": {
          "base_uri": "https://localhost:8080/",
          "height": 367
        },
        "outputId": "f74cf3c7-16c3-4005-a5a2-ee95dd3d437e"
      },
      "source": [
        "cols = dataAll.columns\n",
        "colours = ['#000099', '#ffff00'] # specify the colours - yellow is missing. blue is not missing.\n",
        "sns.heatmap(dataAll[cols].isnull(), cmap=sns.color_palette(colours))"
      ],
      "execution_count": null,
      "outputs": [
        {
          "output_type": "execute_result",
          "data": {
            "text/plain": [
              "<matplotlib.axes._subplots.AxesSubplot at 0x7f3b258426a0>"
            ]
          },
          "metadata": {
            "tags": []
          },
          "execution_count": 12
        },
        {
          "output_type": "display_data",
          "data": {
            "image/png": "[encoded data removed]",
            "text/plain": [
              "<Figure size 432x288 with 2 Axes>"
            ]
          },
          "metadata": {
            "tags": [],
            "needs_background": "light"
          }
        }
      ]
    },
    {
      "cell_type": "code",
      "metadata": {
        "colab_type": "code",
        "id": "yvV0n9UAbYmp",
        "colab": {
          "base_uri": "https://localhost:8080/",
          "height": 225
        },
        "outputId": "71ef380e-b798-4c1f-c642-c2dd3d9c4f0e"
      },
      "source": [
        "for col in dataAll.columns:\n",
        "    pct_missing = np.mean(dataAll[col].isnull())\n",
        "    print('{} - {}%'.format(col, round(pct_missing*100)))"
      ],
      "execution_count": null,
      "outputs": [
        {
          "output_type": "stream",
          "text": [
            "codigoestacion - 0.0%\n",
            "codigosensor - 0.0%\n",
            "fechaobservacion - 0.0%\n",
            "valorobservado - 0.0%\n",
            "nombreestacion - 0.0%\n",
            "departamento - 0.0%\n",
            "municipio - 0.0%\n",
            "zonahidrografica - 0.0%\n",
            "latitud - 0.0%\n",
            "longitud - 0.0%\n",
            "descripcionsensor - 0.0%\n",
            "unidadmedida - 0.0%\n"
          ],
          "name": "stdout"
        }
      ]
    },
    {
      "cell_type": "markdown",
      "metadata": {
        "colab_type": "text",
        "id": "Ywj9OAp3bYmz"
      },
      "source": [
        "**Filtrar datos solo para cali**"
      ]
    },
    {
      "cell_type": "code",
      "metadata": {
        "colab_type": "code",
        "id": "VKWfZQDIbYm2",
        "colab": {
          "base_uri": "https://localhost:8080/",
          "height": 330
        },
        "outputId": "d6e84d1f-12e1-4c05-b229-eae1a387fc92"
      },
      "source": [
        "print(len(dataInund))\n",
        "#filtrar datos solo para cali\n",
        "dataInundCali=dataInundAll[dataInundAll['municipio']==\"CALI\"]\n",
        "print(dataInundCali)"
      ],
      "execution_count": null,
      "outputs": [
        {
          "output_type": "stream",
          "text": [
            "14\n",
            "                        fecha  ... num_missing\n",
            "63    2013-09-16T00:00:00.000  ...           1\n",
            "276   2013-05-27T00:00:00.000  ...           4\n",
            "311   2013-05-20T00:00:00.000  ...           4\n",
            "383   2013-04-29T00:00:00.000  ...           4\n",
            "505   2013-02-24T00:00:00.000  ...           1\n",
            "658   2012-10-23T00:00:00.000  ...           4\n",
            "1197  2012-05-06T00:00:00.000  ...           1\n",
            "1238  2012-04-28T00:00:00.000  ...           1\n",
            "1340  2012-04-22T00:00:00.000  ...           4\n",
            "1399  2012-04-18T00:00:00.000  ...           4\n",
            "1601  2012-03-25T00:00:00.000  ...           1\n",
            "1662  2012-03-10T00:00:00.000  ...           1\n",
            "1765  2012-01-24T00:00:00.000  ...           1\n",
            "1962  2011-12-05T00:00:00.000  ...           1\n",
            "\n",
            "[14 rows x 13 columns]\n"
          ],
          "name": "stdout"
        }
      ]
    },
    {
      "cell_type": "markdown",
      "metadata": {
        "colab_type": "text",
        "id": "8v7GzUyWePCb"
      },
      "source": [
        "## Base de datos Temperatura Maxima del Aire 2 metros\n"
      ]
    },
    {
      "cell_type": "code",
      "metadata": {
        "colab_type": "code",
        "id": "u-PV-MrJePCm",
        "colab": {
          "base_uri": "https://localhost:8080/",
          "height": 34
        },
        "outputId": "0dd6990f-a9bd-47fd-8f55-7ed8e7081634"
      },
      "source": [
        "\n",
        "\n",
        "client = Socrata(\"www.datos.gov.co\", None)\n",
        "results = client.get(\"ccvq-rp9s\", limit=1000)\n",
        "dataAll = pd.DataFrame.from_records(results)"
      ],
      "execution_count": null,
      "outputs": [
        {
          "output_type": "stream",
          "text": [
            "WARNING:root:Requests made without an app_token will be subject to strict throttling limits.\n"
          ],
          "name": "stderr"
        }
      ]
    },
    {
      "cell_type": "markdown",
      "metadata": {
        "colab_type": "text",
        "id": "m3sa8cQ9ePC6"
      },
      "source": [
        "**Observar datos faltantes** "
      ]
    },
    {
      "cell_type": "code",
      "metadata": {
        "colab_type": "code",
        "id": "xZCRBp2RePC9",
        "colab": {
          "base_uri": "https://localhost:8080/",
          "height": 367
        },
        "outputId": "06b3d705-cdca-43f4-df19-309aa5434486"
      },
      "source": [
        "cols = dataAll.columns\n",
        "colours = ['#000099', '#ffff00'] # specify the colours - yellow is missing. blue is not missing.\n",
        "sns.heatmap(dataAll[cols].isnull(), cmap=sns.color_palette(colours))"
      ],
      "execution_count": null,
      "outputs": [
        {
          "output_type": "execute_result",
          "data": {
            "text/plain": [
              "<matplotlib.axes._subplots.AxesSubplot at 0x7f3b21869358>"
            ]
          },
          "metadata": {
            "tags": []
          },
          "execution_count": 15
        },
        {
          "output_type": "display_data",
          "data": {
            "image/png": "[encoded data removed]",
            "text/plain": [
              "<Figure size 432x288 with 2 Axes>"
            ]
          },
          "metadata": {
            "tags": [],
            "needs_background": "light"
          }
        }
      ]
    },
    {
      "cell_type": "code",
      "metadata": {
        "colab_type": "code",
        "id": "xbAhA0iSePDK",
        "colab": {
          "base_uri": "https://localhost:8080/",
          "height": 225
        },
        "outputId": "9be57d39-7277-4d05-b95f-f942adc5693d"
      },
      "source": [
        "for col in dataAll.columns:\n",
        "    pct_missing = np.mean(dataAll[col].isnull())\n",
        "    print('{} - {}%'.format(col, round(pct_missing*100)))"
      ],
      "execution_count": null,
      "outputs": [
        {
          "output_type": "stream",
          "text": [
            "codigoestacion - 0.0%\n",
            "codigosensor - 0.0%\n",
            "fechaobservacion - 0.0%\n",
            "valorobservado - 0.0%\n",
            "nombreestacion - 0.0%\n",
            "departamento - 0.0%\n",
            "municipio - 0.0%\n",
            "zonahidrografica - 0.0%\n",
            "latitud - 0.0%\n",
            "longitud - 0.0%\n",
            "descripcionsensor - 0.0%\n",
            "unidadmedida - 0.0%\n"
          ],
          "name": "stdout"
        }
      ]
    },
    {
      "cell_type": "markdown",
      "metadata": {
        "colab_type": "text",
        "id": "0NKGvN7VePDU"
      },
      "source": [
        "**Filtrar datos solo para cali**"
      ]
    },
    {
      "cell_type": "code",
      "metadata": {
        "colab_type": "code",
        "id": "-W2-NCSmePDX",
        "colab": {
          "base_uri": "https://localhost:8080/",
          "height": 330
        },
        "outputId": "d6e84d1f-12e1-4c05-b229-eae1a387fc92"
      },
      "source": [
        "print(len(dataInund))\n",
        "#filtrar datos solo para cali\n",
        "dataInundCali=dataInundAll[dataInundAll['municipio']==\"CALI\"]\n",
        "print(dataInundCali)"
      ],
      "execution_count": null,
      "outputs": [
        {
          "output_type": "stream",
          "text": [
            "14\n",
            "                        fecha  ... num_missing\n",
            "63    2013-09-16T00:00:00.000  ...           1\n",
            "276   2013-05-27T00:00:00.000  ...           4\n",
            "311   2013-05-20T00:00:00.000  ...           4\n",
            "383   2013-04-29T00:00:00.000  ...           4\n",
            "505   2013-02-24T00:00:00.000  ...           1\n",
            "658   2012-10-23T00:00:00.000  ...           4\n",
            "1197  2012-05-06T00:00:00.000  ...           1\n",
            "1238  2012-04-28T00:00:00.000  ...           1\n",
            "1340  2012-04-22T00:00:00.000  ...           4\n",
            "1399  2012-04-18T00:00:00.000  ...           4\n",
            "1601  2012-03-25T00:00:00.000  ...           1\n",
            "1662  2012-03-10T00:00:00.000  ...           1\n",
            "1765  2012-01-24T00:00:00.000  ...           1\n",
            "1962  2011-12-05T00:00:00.000  ...           1\n",
            "\n",
            "[14 rows x 13 columns]\n"
          ],
          "name": "stdout"
        }
      ]
    },
    {
      "cell_type": "markdown",
      "metadata": {
        "colab_type": "text",
        "id": "ztqURDFje6lS"
      },
      "source": [
        "## Base de datos Velocidad Viento\n"
      ]
    },
    {
      "cell_type": "code",
      "metadata": {
        "colab_type": "code",
        "id": "36cQE0V3e6lZ",
        "colab": {
          "base_uri": "https://localhost:8080/",
          "height": 34
        },
        "outputId": "002586eb-23b1-4523-a688-2f9c48b4c401"
      },
      "source": [
        "\n",
        "\n",
        "client = Socrata(\"www.datos.gov.co\", None)\n",
        "results = client.get(\"sgfv-3yp8\", limit=1000)\n",
        "dataAll = pd.DataFrame.from_records(results)"
      ],
      "execution_count": null,
      "outputs": [
        {
          "output_type": "stream",
          "text": [
            "WARNING:root:Requests made without an app_token will be subject to strict throttling limits.\n"
          ],
          "name": "stderr"
        }
      ]
    },
    {
      "cell_type": "markdown",
      "metadata": {
        "colab_type": "text",
        "id": "h6QxYXpje6lt"
      },
      "source": [
        "**Observar datos faltantes** "
      ]
    },
    {
      "cell_type": "code",
      "metadata": {
        "colab_type": "code",
        "id": "BFh17NvCe6lw",
        "colab": {
          "base_uri": "https://localhost:8080/",
          "height": 367
        },
        "outputId": "52a293a9-8299-4587-a762-b9d8946635a8"
      },
      "source": [
        "cols = dataAll.columns\n",
        "colours = ['#000099', '#ffff00'] # specify the colours - yellow is missing. blue is not missing.\n",
        "sns.heatmap(dataAll[cols].isnull(), cmap=sns.color_palette(colours))"
      ],
      "execution_count": null,
      "outputs": [
        {
          "output_type": "execute_result",
          "data": {
            "text/plain": [
              "<matplotlib.axes._subplots.AxesSubplot at 0x7f3b216c8a20>"
            ]
          },
          "metadata": {
            "tags": []
          },
          "execution_count": 18
        },
        {
          "output_type": "display_data",
          "data": {
            "image/png": "[encoded data removed]",
            "text/plain": [
              "<Figure size 432x288 with 2 Axes>"
            ]
          },
          "metadata": {
            "tags": [],
            "needs_background": "light"
          }
        }
      ]
    },
    {
      "cell_type": "code",
      "metadata": {
        "colab_type": "code",
        "id": "X7NNa9pFe6l_",
        "colab": {
          "base_uri": "https://localhost:8080/",
          "height": 225
        },
        "outputId": "477547f3-69ba-4dec-893e-b8be366b537e"
      },
      "source": [
        "for col in dataAll.columns:\n",
        "    pct_missing = np.mean(dataAll[col].isnull())\n",
        "    print('{} - {}%'.format(col, round(pct_missing*100)))"
      ],
      "execution_count": null,
      "outputs": [
        {
          "output_type": "stream",
          "text": [
            "codigoestacion - 0.0%\n",
            "codigosensor - 0.0%\n",
            "fechaobservacion - 0.0%\n",
            "valorobservado - 0.0%\n",
            "nombreestacion - 0.0%\n",
            "departamento - 0.0%\n",
            "municipio - 0.0%\n",
            "zonahidrografica - 0.0%\n",
            "latitud - 0.0%\n",
            "longitud - 0.0%\n",
            "descripcionsensor - 0.0%\n",
            "unidadmedida - 0.0%\n"
          ],
          "name": "stdout"
        }
      ]
    },
    {
      "cell_type": "markdown",
      "metadata": {
        "colab_type": "text",
        "id": "zzkfXum8e6mK"
      },
      "source": [
        "**Filtrar datos solo para cali**"
      ]
    },
    {
      "cell_type": "code",
      "metadata": {
        "colab_type": "code",
        "id": "GALn9TC_e6mM",
        "colab": {
          "base_uri": "https://localhost:8080/",
          "height": 330
        },
        "outputId": "d6e84d1f-12e1-4c05-b229-eae1a387fc92"
      },
      "source": [
        "print(len(dataInund))\n",
        "#filtrar datos solo para cali\n",
        "dataInundCali=dataInundAll[dataInundAll['municipio']==\"CALI\"]\n",
        "print(dataInundCali)"
      ],
      "execution_count": null,
      "outputs": [
        {
          "output_type": "stream",
          "text": [
            "14\n",
            "                        fecha  ... num_missing\n",
            "63    2013-09-16T00:00:00.000  ...           1\n",
            "276   2013-05-27T00:00:00.000  ...           4\n",
            "311   2013-05-20T00:00:00.000  ...           4\n",
            "383   2013-04-29T00:00:00.000  ...           4\n",
            "505   2013-02-24T00:00:00.000  ...           1\n",
            "658   2012-10-23T00:00:00.000  ...           4\n",
            "1197  2012-05-06T00:00:00.000  ...           1\n",
            "1238  2012-04-28T00:00:00.000  ...           1\n",
            "1340  2012-04-22T00:00:00.000  ...           4\n",
            "1399  2012-04-18T00:00:00.000  ...           4\n",
            "1601  2012-03-25T00:00:00.000  ...           1\n",
            "1662  2012-03-10T00:00:00.000  ...           1\n",
            "1765  2012-01-24T00:00:00.000  ...           1\n",
            "1962  2011-12-05T00:00:00.000  ...           1\n",
            "\n",
            "[14 rows x 13 columns]\n"
          ],
          "name": "stdout"
        }
      ]
    },
    {
      "cell_type": "markdown",
      "metadata": {
        "colab_type": "text",
        "id": "ybcK1kkIgKcC"
      },
      "source": [
        "## Base de datos Nivel Maximo del rio\n"
      ]
    },
    {
      "cell_type": "code",
      "metadata": {
        "colab_type": "code",
        "id": "a1WycHd5gKcJ",
        "colab": {
          "base_uri": "https://localhost:8080/",
          "height": 34
        },
        "outputId": "35d96fad-b826-4e61-ae07-773e0f39cc09"
      },
      "source": [
        "\n",
        "\n",
        "client = Socrata(\"www.datos.gov.co\", None)\n",
        "results = client.get(\"vfth-yucv\", limit=1000)\n",
        "dataAll = pd.DataFrame.from_records(results)"
      ],
      "execution_count": null,
      "outputs": [
        {
          "output_type": "stream",
          "text": [
            "WARNING:root:Requests made without an app_token will be subject to strict throttling limits.\n"
          ],
          "name": "stderr"
        }
      ]
    },
    {
      "cell_type": "markdown",
      "metadata": {
        "colab_type": "text",
        "id": "t0xUEInSgKcd"
      },
      "source": [
        "**Observar datos faltantes** "
      ]
    },
    {
      "cell_type": "code",
      "metadata": {
        "colab_type": "code",
        "id": "KBdzSqsGgKcf",
        "colab": {
          "base_uri": "https://localhost:8080/",
          "height": 367
        },
        "outputId": "76ecda98-a562-44a2-9906-c88171eec9d8"
      },
      "source": [
        "cols = dataAll.columns\n",
        "colours = ['#000099', '#ffff00'] # specify the colours - yellow is missing. blue is not missing.\n",
        "sns.heatmap(dataAll[cols].isnull(), cmap=sns.color_palette(colours))"
      ],
      "execution_count": null,
      "outputs": [
        {
          "output_type": "execute_result",
          "data": {
            "text/plain": [
              "<matplotlib.axes._subplots.AxesSubplot at 0x7f3b215ce1d0>"
            ]
          },
          "metadata": {
            "tags": []
          },
          "execution_count": 23
        },
        {
          "output_type": "display_data",
          "data": {
            "image/png": "[encoded data removed]",
            "text/plain": [
              "<Figure size 432x288 with 2 Axes>"
            ]
          },
          "metadata": {
            "tags": [],
            "needs_background": "light"
          }
        }
      ]
    },
    {
      "cell_type": "code",
      "metadata": {
        "colab_type": "code",
        "id": "LaJcRTVlgKcs",
        "colab": {
          "base_uri": "https://localhost:8080/",
          "height": 225
        },
        "outputId": "477547f3-69ba-4dec-893e-b8be366b537e"
      },
      "source": [
        "for col in dataAll.columns:\n",
        "    pct_missing = np.mean(dataAll[col].isnull())\n",
        "    print('{} - {}%'.format(col, round(pct_missing*100)))"
      ],
      "execution_count": null,
      "outputs": [
        {
          "output_type": "stream",
          "text": [
            "codigoestacion - 0.0%\n",
            "codigosensor - 0.0%\n",
            "fechaobservacion - 0.0%\n",
            "valorobservado - 0.0%\n",
            "nombreestacion - 0.0%\n",
            "departamento - 0.0%\n",
            "municipio - 0.0%\n",
            "zonahidrografica - 0.0%\n",
            "latitud - 0.0%\n",
            "longitud - 0.0%\n",
            "descripcionsensor - 0.0%\n",
            "unidadmedida - 0.0%\n"
          ],
          "name": "stdout"
        }
      ]
    },
    {
      "cell_type": "markdown",
      "metadata": {
        "colab_type": "text",
        "id": "QZXIQNR8gKc2"
      },
      "source": [
        "**Filtrar datos solo para cali**"
      ]
    },
    {
      "cell_type": "code",
      "metadata": {
        "colab_type": "code",
        "id": "J5a81VhdgKc5",
        "colab": {
          "base_uri": "https://localhost:8080/",
          "height": 330
        },
        "outputId": "d6e84d1f-12e1-4c05-b229-eae1a387fc92"
      },
      "source": [
        "print(len(dataInund))\n",
        "#filtrar datos solo para cali\n",
        "dataInundCali=dataInundAll[dataInundAll['municipio']==\"CALI\"]\n",
        "print(dataInundCali)"
      ],
      "execution_count": null,
      "outputs": [
        {
          "output_type": "stream",
          "text": [
            "14\n",
            "                        fecha  ... num_missing\n",
            "63    2013-09-16T00:00:00.000  ...           1\n",
            "276   2013-05-27T00:00:00.000  ...           4\n",
            "311   2013-05-20T00:00:00.000  ...           4\n",
            "383   2013-04-29T00:00:00.000  ...           4\n",
            "505   2013-02-24T00:00:00.000  ...           1\n",
            "658   2012-10-23T00:00:00.000  ...           4\n",
            "1197  2012-05-06T00:00:00.000  ...           1\n",
            "1238  2012-04-28T00:00:00.000  ...           1\n",
            "1340  2012-04-22T00:00:00.000  ...           4\n",
            "1399  2012-04-18T00:00:00.000  ...           4\n",
            "1601  2012-03-25T00:00:00.000  ...           1\n",
            "1662  2012-03-10T00:00:00.000  ...           1\n",
            "1765  2012-01-24T00:00:00.000  ...           1\n",
            "1962  2011-12-05T00:00:00.000  ...           1\n",
            "\n",
            "[14 rows x 13 columns]\n"
          ],
          "name": "stdout"
        }
      ]
    },
    {
      "cell_type": "markdown",
      "metadata": {
        "colab_type": "text",
        "id": "A5tRaYauhRqD"
      },
      "source": [
        "## Base de datos Reporte Calidad Del Agua 2015 - 2018 en la ciudad de Santiago de Cali\n"
      ]
    },
    {
      "cell_type": "code",
      "metadata": {
        "colab_type": "code",
        "id": "e6K6ZRKshRqO",
        "colab": {
          "base_uri": "https://localhost:8080/",
          "height": 34
        },
        "outputId": "020c7429-46a9-47fe-b47b-650c60da5fd4"
      },
      "source": [
        "\n",
        "\n",
        "client = Socrata(\"www.datos.gov.co\", None)\n",
        "results = client.get(\"x3ds-vaid\", limit=1000)\n",
        "dataAll = pd.DataFrame.from_records(results)"
      ],
      "execution_count": null,
      "outputs": [
        {
          "output_type": "stream",
          "text": [
            "WARNING:root:Requests made without an app_token will be subject to strict throttling limits.\n"
          ],
          "name": "stderr"
        }
      ]
    },
    {
      "cell_type": "markdown",
      "metadata": {
        "colab_type": "text",
        "id": "gaQ3HsAbhRqe"
      },
      "source": [
        "**Observar datos faltantes** "
      ]
    },
    {
      "cell_type": "code",
      "metadata": {
        "colab_type": "code",
        "id": "a8RKKsRWhRqg",
        "colab": {
          "base_uri": "https://localhost:8080/",
          "height": 375
        },
        "outputId": "640f352b-3546-4265-cab9-7f3257f73451"
      },
      "source": [
        "cols = dataAll.columns\n",
        "colours = ['#000099', '#ffff00'] # specify the colours - yellow is missing. blue is not missing.\n",
        "sns.heatmap(dataAll[cols].isnull(), cmap=sns.color_palette(colours))"
      ],
      "execution_count": null,
      "outputs": [
        {
          "output_type": "execute_result",
          "data": {
            "text/plain": [
              "<matplotlib.axes._subplots.AxesSubplot at 0x7f3b212449b0>"
            ]
          },
          "metadata": {
            "tags": []
          },
          "execution_count": 26
        },
        {
          "output_type": "display_data",
          "data": {
            "image/png": "[encoded data removed]",
            "text/plain": [
              "<Figure size 432x288 with 2 Axes>"
            ]
          },
          "metadata": {
            "tags": [],
            "needs_background": "light"
          }
        }
      ]
    },
    {
      "cell_type": "code",
      "metadata": {
        "colab_type": "code",
        "id": "vHrDFnCFhRqy",
        "colab": {
          "base_uri": "https://localhost:8080/",
          "height": 243
        },
        "outputId": "226d0a30-57f6-4515-8871-bac39becc960"
      },
      "source": [
        "for col in dataAll.columns:\n",
        "    pct_missing = np.mean(dataAll[col].isnull())\n",
        "    print('{} - {}%'.format(col, round(pct_missing*100)))"
      ],
      "execution_count": null,
      "outputs": [
        {
          "output_type": "stream",
          "text": [
            "a_o - 0.0%\n",
            "fecha - 0.0%\n",
            "muestreo - 0.0%\n",
            "punto_de_muestreo - 0.0%\n",
            "punto - 0.0%\n",
            "rio - 0.0%\n",
            "longitud - 0.0%\n",
            "ica_ideam - 0.0%\n",
            "od - 0.0%\n",
            "ph - 0.0%\n",
            "dqo_mg_l - 0.0%\n",
            "ce_s_cm - 0.0%\n",
            "sst_mg_l - 0.0%\n"
          ],
          "name": "stdout"
        }
      ]
    },
    {
      "cell_type": "markdown",
      "metadata": {
        "colab_type": "text",
        "id": "vkEAQRfOhRq6"
      },
      "source": [
        "**Filtrar datos solo para cali**"
      ]
    },
    {
      "cell_type": "code",
      "metadata": {
        "colab_type": "code",
        "id": "_tknl09OhRq8",
        "colab": {
          "base_uri": "https://localhost:8080/",
          "height": 330
        },
        "outputId": "d6e84d1f-12e1-4c05-b229-eae1a387fc92"
      },
      "source": [
        "print(len(dataInund))\n",
        "#filtrar datos solo para cali\n",
        "dataInundCali=dataInundAll[dataInundAll['municipio']==\"CALI\"]\n",
        "print(dataInundCali)"
      ],
      "execution_count": null,
      "outputs": [
        {
          "output_type": "stream",
          "text": [
            "14\n",
            "                        fecha  ... num_missing\n",
            "63    2013-09-16T00:00:00.000  ...           1\n",
            "276   2013-05-27T00:00:00.000  ...           4\n",
            "311   2013-05-20T00:00:00.000  ...           4\n",
            "383   2013-04-29T00:00:00.000  ...           4\n",
            "505   2013-02-24T00:00:00.000  ...           1\n",
            "658   2012-10-23T00:00:00.000  ...           4\n",
            "1197  2012-05-06T00:00:00.000  ...           1\n",
            "1238  2012-04-28T00:00:00.000  ...           1\n",
            "1340  2012-04-22T00:00:00.000  ...           4\n",
            "1399  2012-04-18T00:00:00.000  ...           4\n",
            "1601  2012-03-25T00:00:00.000  ...           1\n",
            "1662  2012-03-10T00:00:00.000  ...           1\n",
            "1765  2012-01-24T00:00:00.000  ...           1\n",
            "1962  2011-12-05T00:00:00.000  ...           1\n",
            "\n",
            "[14 rows x 13 columns]\n"
          ],
          "name": "stdout"
        }
      ]
    }
  ]
}