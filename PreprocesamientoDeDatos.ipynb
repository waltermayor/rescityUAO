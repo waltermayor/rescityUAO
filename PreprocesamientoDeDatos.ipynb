{
  "nbformat": 4,
  "nbformat_minor": 0,
  "metadata": {
    "colab": {
      "name": "PreprocesamientoDeDatos",
      "provenance": [],
      "authorship_tag": "ABX9TyNbuQoUysEdmZHHhfJNVD0A",
      "include_colab_link": true
    },
    "kernelspec": {
      "name": "python3",
      "display_name": "Python 3"
    }
  },
  "cells": [
    {
      "cell_type": "markdown",
      "metadata": {
        "id": "view-in-github",
        "colab_type": "text"
      },
      "source": [
        "<a href=\"https://colab.research.google.com/github/waltermayor/rescityUAO/blob/master/PreprocesamientoDeDatos.ipynb\" target=\"_parent\"><img src=\"https://colab.research.google.com/assets/colab-badge.svg\" alt=\"Open In Colab\"/></a>"
      ]
    },
    {
      "cell_type": "code",
      "metadata": {
        "id": "jsm4r9N54Jt6",
        "colab_type": "code",
        "colab": {
          "base_uri": "https://localhost:8080/",
          "height": 141
        },
        "outputId": "09ea20fe-51a8-4dd0-db3b-d7460d76208e"
      },
      "source": [
        "#pip install pandas\n",
        "! pip install sodapy"
      ],
      "execution_count": null,
      "outputs": [
        {
          "output_type": "stream",
          "text": [
            "Requirement already satisfied: sodapy in /usr/local/lib/python3.6/dist-packages (2.1.0)\n",
            "Requirement already satisfied: requests>=2.20.0 in /usr/local/lib/python3.6/dist-packages (from sodapy) (2.23.0)\n",
            "Requirement already satisfied: chardet<4,>=3.0.2 in /usr/local/lib/python3.6/dist-packages (from requests>=2.20.0->sodapy) (3.0.4)\n",
            "Requirement already satisfied: certifi>=2017.4.17 in /usr/local/lib/python3.6/dist-packages (from requests>=2.20.0->sodapy) (2020.6.20)\n",
            "Requirement already satisfied: urllib3!=1.25.0,!=1.25.1,<1.26,>=1.21.1 in /usr/local/lib/python3.6/dist-packages (from requests>=2.20.0->sodapy) (1.24.3)\n",
            "Requirement already satisfied: idna<3,>=2.5 in /usr/local/lib/python3.6/dist-packages (from requests>=2.20.0->sodapy) (2.9)\n"
          ],
          "name": "stdout"
        }
      ]
    },
    {
      "cell_type": "code",
      "metadata": {
        "id": "ctJsgUqj4EMT",
        "colab_type": "code",
        "colab": {}
      },
      "source": [
        "import pandas as pd\n",
        "import copy\n",
        "import seaborn as sns\n",
        "import numpy as np\n",
        "from sodapy import Socrata"
      ],
      "execution_count": null,
      "outputs": []
    },
    {
      "cell_type": "markdown",
      "metadata": {
        "id": "iXPOez-24Nno",
        "colab_type": "text"
      },
      "source": [
        "### Base de datos inundaciones"
      ]
    },
    {
      "cell_type": "code",
      "metadata": {
        "id": "mAm4YM0GsGWZ",
        "colab_type": "code",
        "colab": {
          "base_uri": "https://localhost:8080/",
          "height": 34
        },
        "outputId": "f289b108-cfc4-45cd-d5bb-34645ee6e3ff"
      },
      "source": [
        "client = Socrata(\"www.datos.gov.co\", None)\n",
        "results = client.get(\"es7m-wj39\", limit=2000)\n",
        "dataAll = pd.DataFrame.from_records(results)\n"
      ],
      "execution_count": null,
      "outputs": [
        {
          "output_type": "stream",
          "text": [
            "WARNING:root:Requests made without an app_token will be subject to strict throttling limits.\n"
          ],
          "name": "stderr"
        }
      ]
    },
    {
      "cell_type": "markdown",
      "metadata": {
        "id": "YXg2Had-3xFD",
        "colab_type": "text"
      },
      "source": [
        "**Observar datos faltantes** "
      ]
    },
    {
      "cell_type": "code",
      "metadata": {
        "id": "pHoQJUs92Zrt",
        "colab_type": "code",
        "colab": {
          "base_uri": "https://localhost:8080/",
          "height": 356
        },
        "outputId": "d961141e-3e02-4728-d9d3-4bec0ac38f7b"
      },
      "source": [
        "cols = dataAll.columns\n",
        "colours = ['#000099', '#ffff00'] # specify the colours - yellow is missing. blue is not missing.\n",
        "sns.heatmap(dataAll[cols].isnull(), cmap=sns.color_palette(colours))"
      ],
      "execution_count": null,
      "outputs": [
        {
          "output_type": "execute_result",
          "data": {
            "text/plain": [
              "<matplotlib.axes._subplots.AxesSubplot at 0x7fd9f2105208>"
            ]
          },
          "metadata": {
            "tags": []
          },
          "execution_count": 33
        },
        {
          "output_type": "display_data",
          "data": {
            "image/png": "[encoded data removed]",
            "text/plain": [
              "<Figure size 432x288 with 2 Axes>"
            ]
          },
          "metadata": {
            "tags": [],
            "needs_background": "light"
          }
        }
      ]
    },
    {
      "cell_type": "code",
      "metadata": {
        "id": "rhguIj_BNQK5",
        "colab_type": "code",
        "colab": {
          "base_uri": "https://localhost:8080/",
          "height": 243
        },
        "outputId": "4eff1100-323e-4023-d12b-c42e56acf38b"
      },
      "source": [
        "for col in dataInundAll.columns:\n",
        "    pct_missing = np.mean(dataInundAll[col].isnull())\n",
        "    print('{} - {}%'.format(col, round(pct_missing*100)))"
      ],
      "execution_count": null,
      "outputs": [
        {
          "output_type": "stream",
          "text": [
            "fecha - 0.0%\n",
            "departamento - 0.0%\n",
            "municipio - 0.0%\n",
            "evento - 0.0%\n",
            "personas - 48.0%\n",
            "familias - 49.0%\n",
            "viviendasaver - 56.0%\n",
            "viviendasdestru - 92.0%\n",
            "personas_ismissing - 0.0%\n",
            "familias_ismissing - 0.0%\n",
            "viviendasaver_ismissing - 0.0%\n",
            "viviendasdestru_ismissing - 0.0%\n",
            "num_missing - 0.0%\n"
          ],
          "name": "stdout"
        }
      ]
    },
    {
      "cell_type": "markdown",
      "metadata": {
        "id": "GP4VgkQK4_pM",
        "colab_type": "text"
      },
      "source": [
        "**Filtrar datos solo para cali**"
      ]
    },
    {
      "cell_type": "code",
      "metadata": {
        "id": "SlVlOc8S3eiM",
        "colab_type": "code",
        "colab": {
          "base_uri": "https://localhost:8080/",
          "height": 330
        },
        "outputId": "e2533956-ca7b-413f-e775-baa246877ca2"
      },
      "source": [
        "#filtrar datos solo para cali\n",
        "dataCali=dataAll[dataAll['municipio']==\"CALI\"]\n",
        "print(dataCali)"
      ],
      "execution_count": null,
      "outputs": [
        {
          "output_type": "stream",
          "text": [
            "14\n",
            "                        fecha     departamento  ... viviendasaver viviendasdestru\n",
            "63    2013-09-16T00:00:00.000  VALLE DEL CAUCA  ...            15             NaN\n",
            "276   2013-05-27T00:00:00.000  VALLE DEL CAUCA  ...           NaN             NaN\n",
            "311   2013-05-20T00:00:00.000  VALLE DEL CAUCA  ...           NaN             NaN\n",
            "383   2013-04-29T00:00:00.000  VALLE DEL CAUCA  ...           NaN             NaN\n",
            "505   2013-02-24T00:00:00.000  VALLE DEL CAUCA  ...             4             NaN\n",
            "658   2012-10-23T00:00:00.000  VALLE DEL CAUCA  ...           NaN             NaN\n",
            "1197  2012-05-06T00:00:00.000  VALLE DEL CAUCA  ...            20             NaN\n",
            "1238  2012-04-28T00:00:00.000  VALLE DEL CAUCA  ...            40             NaN\n",
            "1340  2012-04-22T00:00:00.000  VALLE DEL CAUCA  ...           NaN             NaN\n",
            "1399  2012-04-18T00:00:00.000  VALLE DEL CAUCA  ...           NaN             NaN\n",
            "1601  2012-03-25T00:00:00.000  VALLE DEL CAUCA  ...           200             NaN\n",
            "1662  2012-03-10T00:00:00.000  VALLE DEL CAUCA  ...            20             NaN\n",
            "1765  2012-01-24T00:00:00.000  VALLE DEL CAUCA  ...           956             NaN\n",
            "1962  2011-12-05T00:00:00.000  VALLE DEL CAUCA  ...            30             NaN\n",
            "\n",
            "[14 rows x 8 columns]\n"
          ],
          "name": "stdout"
        }
      ]
    },
    {
      "cell_type": "markdown",
      "metadata": {
        "colab_type": "text",
        "id": "CGvwuQqt8orM"
      },
      "source": [
        "### Base de datos presipitaciones y temperatura media 1981-2010\n"
      ]
    },
    {
      "cell_type": "code",
      "metadata": {
        "colab_type": "code",
        "id": "eNcchKpm8orT",
        "colab": {
          "base_uri": "https://localhost:8080/",
          "height": 34
        },
        "outputId": "f95c2d5a-c28e-46dc-98a3-ddccf09486b9"
      },
      "source": [
        "\n",
        "\n",
        "client = Socrata(\"www.datos.gov.co\", None)\n",
        "results = client.get(\"nsxu-h2dh\", limit=1000)\n",
        "dataAll = pd.DataFrame.from_records(results)"
      ],
      "execution_count": null,
      "outputs": [
        {
          "output_type": "stream",
          "text": [
            "WARNING:root:Requests made without an app_token will be subject to strict throttling limits.\n"
          ],
          "name": "stderr"
        }
      ]
    },
    {
      "cell_type": "markdown",
      "metadata": {
        "colab_type": "text",
        "id": "Yr2Tic348orm"
      },
      "source": [
        "**Observar datos faltantes** "
      ]
    },
    {
      "cell_type": "code",
      "metadata": {
        "colab_type": "code",
        "id": "2S7MnC3V8oro",
        "colab": {
          "base_uri": "https://localhost:8080/",
          "height": 342
        },
        "outputId": "ba5c12e6-dc64-461f-d90c-fed3c1c7aa1f"
      },
      "source": [
        "cols = dataAll.columns\n",
        "colours = ['#000099', '#ffff00'] # specify the colours - yellow is missing. blue is not missing.\n",
        "sns.heatmap(dataAll[cols].isnull(), cmap=sns.color_palette(colours))"
      ],
      "execution_count": null,
      "outputs": [
        {
          "output_type": "execute_result",
          "data": {
            "text/plain": [
              "<matplotlib.axes._subplots.AxesSubplot at 0x7fd9f29bd160>"
            ]
          },
          "metadata": {
            "tags": []
          },
          "execution_count": 36
        },
        {
          "output_type": "display_data",
          "data": {
            "image/png": "[encoded data removed]",
            "text/plain": [
              "<Figure size 432x288 with 2 Axes>"
            ]
          },
          "metadata": {
            "tags": [],
            "needs_background": "light"
          }
        }
      ]
    },
    {
      "cell_type": "code",
      "metadata": {
        "colab_type": "code",
        "id": "LzgJkqbN8or2",
        "colab": {
          "base_uri": "https://localhost:8080/",
          "height": 729
        },
        "outputId": "42201ba6-6c14-4c56-b417-f37a7f3ce645"
      },
      "source": [
        "for col in dataAll.columns:\n",
        "    pct_missing = np.mean(dataAll[col].isnull())\n",
        "    print('{} - {}%'.format(col, round(pct_missing*100)))"
      ],
      "execution_count": null,
      "outputs": [
        {
          "output_type": "stream",
          "text": [
            "codigo - 0.0%\n",
            "nombre - 0.0%\n",
            "categoria - 0.0%\n",
            "departamento - 0.0%\n",
            "municipio - 0.0%\n",
            "corriente - 0.0%\n",
            "lag - 0.0%\n",
            "lam - 0.0%\n",
            "las - 0.0%\n",
            "lac - 0.0%\n",
            "log - 0.0%\n",
            "lom - 0.0%\n",
            "los - 0.0%\n",
            "loc - 0.0%\n",
            "altitud - 0.0%\n",
            "enepreci30a - 0.0%\n",
            "febpreci30a - 0.0%\n",
            "marpreci30a - 0.0%\n",
            "abrpreci30a - 0.0%\n",
            "maypreci30a - 0.0%\n",
            "junpreci30a - 0.0%\n",
            "julpreci30a - 0.0%\n",
            "agopreci30a - 0.0%\n",
            "seppreci30a - 0.0%\n",
            "octpreci30a - 0.0%\n",
            "novpreci30a - 0.0%\n",
            "dicpreci30a - 0.0%\n",
            "totalpreci30a - 0.0%\n",
            "enetemp30a - 0.0%\n",
            "febtemp30a - 0.0%\n",
            "martemp30a - 0.0%\n",
            "abrtemp30a - 0.0%\n",
            "maytemp30a - 0.0%\n",
            "juntemp30a - 0.0%\n",
            "jultemp30a - 0.0%\n",
            "agotemp30a - 0.0%\n",
            "septemp30a - 0.0%\n",
            "octtemp30a - 0.0%\n",
            "novtemp30a - 0.0%\n",
            "dictemp30a - 0.0%\n",
            "protemp30a - 0.0%\n"
          ],
          "name": "stdout"
        }
      ]
    },
    {
      "cell_type": "markdown",
      "metadata": {
        "colab_type": "text",
        "id": "U_4VfDcy8or-"
      },
      "source": [
        "**Filtrar datos solo para cali**"
      ]
    },
    {
      "cell_type": "code",
      "metadata": {
        "colab_type": "code",
        "id": "Le_iJq1P8osB",
        "colab": {
          "base_uri": "https://localhost:8080/",
          "height": 330
        },
        "outputId": "d6e84d1f-12e1-4c05-b229-eae1a387fc92"
      },
      "source": [
        "print(len(dataInund))\n",
        "#filtrar datos solo para cali\n",
        "dataInundCali=dataInundAll[dataInundAll['municipio']==\"CALI\"]\n",
        "print(dataInundCali)"
      ],
      "execution_count": null,
      "outputs": [
        {
          "output_type": "stream",
          "text": [
            "14\n",
            "                        fecha  ... num_missing\n",
            "63    2013-09-16T00:00:00.000  ...           1\n",
            "276   2013-05-27T00:00:00.000  ...           4\n",
            "311   2013-05-20T00:00:00.000  ...           4\n",
            "383   2013-04-29T00:00:00.000  ...           4\n",
            "505   2013-02-24T00:00:00.000  ...           1\n",
            "658   2012-10-23T00:00:00.000  ...           4\n",
            "1197  2012-05-06T00:00:00.000  ...           1\n",
            "1238  2012-04-28T00:00:00.000  ...           1\n",
            "1340  2012-04-22T00:00:00.000  ...           4\n",
            "1399  2012-04-18T00:00:00.000  ...           4\n",
            "1601  2012-03-25T00:00:00.000  ...           1\n",
            "1662  2012-03-10T00:00:00.000  ...           1\n",
            "1765  2012-01-24T00:00:00.000  ...           1\n",
            "1962  2011-12-05T00:00:00.000  ...           1\n",
            "\n",
            "[14 rows x 13 columns]\n"
          ],
          "name": "stdout"
        }
      ]
    }
  ]
}